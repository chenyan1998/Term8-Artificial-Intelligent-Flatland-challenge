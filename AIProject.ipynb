{
 "cells": [
  {
   "cell_type": "code",
   "execution_count": 1,
   "metadata": {},
   "outputs": [],
   "source": [
    "import pandas as pd\n",
    "import torch\n",
    "import numpy as np\n",
    "from sklearn.preprocessing import MinMaxScaler, StandardScaler\n",
    "import torch.nn as nn\n",
    "import time\n",
    "import copy\n",
    "from tqdm.notebook import tqdm\n",
    "import matplotlib.pyplot as plt\n",
    "from sklearn.metrics import mean_squared_log_error"
   ]
  },
  {
   "cell_type": "code",
   "execution_count": 99,
   "metadata": {},
   "outputs": [],
   "source": [
    "PATH = \"./saved_model.pth\""
   ]
  },
  {
   "cell_type": "code",
   "execution_count": 123,
   "metadata": {},
   "outputs": [
    {
     "name": "stdout",
     "output_type": "stream",
     "text": [
      "number_of_col:  40\n",
      "number_of_row:  1300207\n"
     ]
    }
   ],
   "source": [
    "# headers=['Tweet Id','username','timestamp', 'followers','friends','retweets','favorites', 'entities','sentiment','mentions','hashtags','urls']\n",
    "\n",
    "INPUT_DIR='./training_data_v2.csv'\n",
    "train_df = pd.read_csv(f'{INPUT_DIR}', sep=',')\n",
    "train_df=train_df.replace(np.nan,0)\n",
    "\n",
    "INPUT_DIR= './validation_data_v2.csv'\n",
    "valid_df = pd.read_csv(f'{INPUT_DIR}', sep=',')\n",
    "valid_df = valid_df.replace(np.nan,0)\n",
    "\n",
    "INPUT_DIR='./test_data_v2.csv'\n",
    "test_df = pd.read_csv(f'{INPUT_DIR}', sep=',')\n",
    "test_df = test_df.replace(np.nan,0)\n",
    "\n",
    "\n",
    "# Test Code : Train data \n",
    "number_of_col = len(train_df.columns)\n",
    "number_of_row = len(train_df)\n",
    "train_df.head(5)\n",
    "print(\"number_of_col: \", number_of_col)\n",
    "print(\"number_of_row: \", number_of_row)"
   ]
  },
  {
   "cell_type": "code",
   "execution_count": 3,
   "metadata": {},
   "outputs": [
    {
     "data": {
      "text/html": [
       "<div>\n",
       "<style scoped>\n",
       "    .dataframe tbody tr th:only-of-type {\n",
       "        vertical-align: middle;\n",
       "    }\n",
       "\n",
       "    .dataframe tbody tr th {\n",
       "        vertical-align: top;\n",
       "    }\n",
       "\n",
       "    .dataframe thead th {\n",
       "        text-align: right;\n",
       "    }\n",
       "</style>\n",
       "<table border=\"1\" class=\"dataframe\">\n",
       "  <thead>\n",
       "    <tr style=\"text-align: right;\">\n",
       "      <th></th>\n",
       "      <th>followers</th>\n",
       "      <th>friends</th>\n",
       "      <th>favorites</th>\n",
       "      <th>friends_favorites</th>\n",
       "      <th>followers_favorites</th>\n",
       "      <th>followers_favorites_friends</th>\n",
       "      <th>followers_zTransformation</th>\n",
       "      <th>friends_zTransformation</th>\n",
       "      <th>favorites_zTransformation</th>\n",
       "      <th>friends_favorites_zTransformation</th>\n",
       "      <th>...</th>\n",
       "      <th>hour_ce</th>\n",
       "      <th>day_ce</th>\n",
       "      <th>week_of_month_ce</th>\n",
       "      <th>senti_pos_te</th>\n",
       "      <th>senti_neg_te</th>\n",
       "      <th>weekday_te</th>\n",
       "      <th>hour_te</th>\n",
       "      <th>day_te</th>\n",
       "      <th>week_of_month_te</th>\n",
       "      <th>retweets</th>\n",
       "    </tr>\n",
       "  </thead>\n",
       "  <tbody>\n",
       "    <tr>\n",
       "      <th>0</th>\n",
       "      <td>110</td>\n",
       "      <td>342</td>\n",
       "      <td>0</td>\n",
       "      <td>0</td>\n",
       "      <td>0</td>\n",
       "      <td>0</td>\n",
       "      <td>-0.120229</td>\n",
       "      <td>-0.164850</td>\n",
       "      <td>-0.069161</td>\n",
       "      <td>-0.017861</td>\n",
       "      <td>...</td>\n",
       "      <td>48621</td>\n",
       "      <td>43723</td>\n",
       "      <td>279535</td>\n",
       "      <td>37.004128</td>\n",
       "      <td>48.555542</td>\n",
       "      <td>36.043583</td>\n",
       "      <td>46.653622</td>\n",
       "      <td>35.377441</td>\n",
       "      <td>34.443142</td>\n",
       "      <td>0</td>\n",
       "    </tr>\n",
       "    <tr>\n",
       "      <th>1</th>\n",
       "      <td>364</td>\n",
       "      <td>411</td>\n",
       "      <td>0</td>\n",
       "      <td>0</td>\n",
       "      <td>0</td>\n",
       "      <td>0</td>\n",
       "      <td>-0.120122</td>\n",
       "      <td>-0.161276</td>\n",
       "      <td>-0.069161</td>\n",
       "      <td>-0.017861</td>\n",
       "      <td>...</td>\n",
       "      <td>65844</td>\n",
       "      <td>41160</td>\n",
       "      <td>131491</td>\n",
       "      <td>37.004128</td>\n",
       "      <td>46.482170</td>\n",
       "      <td>39.928677</td>\n",
       "      <td>27.654570</td>\n",
       "      <td>31.757542</td>\n",
       "      <td>32.218277</td>\n",
       "      <td>0</td>\n",
       "    </tr>\n",
       "    <tr>\n",
       "      <th>2</th>\n",
       "      <td>110</td>\n",
       "      <td>167</td>\n",
       "      <td>0</td>\n",
       "      <td>0</td>\n",
       "      <td>0</td>\n",
       "      <td>0</td>\n",
       "      <td>-0.120229</td>\n",
       "      <td>-0.173916</td>\n",
       "      <td>-0.069161</td>\n",
       "      <td>-0.017861</td>\n",
       "      <td>...</td>\n",
       "      <td>69965</td>\n",
       "      <td>43723</td>\n",
       "      <td>279535</td>\n",
       "      <td>36.522129</td>\n",
       "      <td>31.723640</td>\n",
       "      <td>36.566437</td>\n",
       "      <td>32.968044</td>\n",
       "      <td>37.284245</td>\n",
       "      <td>35.013035</td>\n",
       "      <td>0</td>\n",
       "    </tr>\n",
       "    <tr>\n",
       "      <th>3</th>\n",
       "      <td>9555393</td>\n",
       "      <td>391</td>\n",
       "      <td>46</td>\n",
       "      <td>17986</td>\n",
       "      <td>439548078</td>\n",
       "      <td>171863298498</td>\n",
       "      <td>3.908055</td>\n",
       "      <td>-0.162312</td>\n",
       "      <td>-0.042321</td>\n",
       "      <td>-0.017494</td>\n",
       "      <td>...</td>\n",
       "      <td>67282</td>\n",
       "      <td>45848</td>\n",
       "      <td>305971</td>\n",
       "      <td>33.643620</td>\n",
       "      <td>32.631733</td>\n",
       "      <td>36.754681</td>\n",
       "      <td>36.272175</td>\n",
       "      <td>35.521835</td>\n",
       "      <td>33.718510</td>\n",
       "      <td>17</td>\n",
       "    </tr>\n",
       "    <tr>\n",
       "      <th>4</th>\n",
       "      <td>7036</td>\n",
       "      <td>1078</td>\n",
       "      <td>1</td>\n",
       "      <td>1078</td>\n",
       "      <td>7036</td>\n",
       "      <td>7584808</td>\n",
       "      <td>-0.117310</td>\n",
       "      <td>-0.126723</td>\n",
       "      <td>-0.068578</td>\n",
       "      <td>-0.017839</td>\n",
       "      <td>...</td>\n",
       "      <td>45686</td>\n",
       "      <td>42289</td>\n",
       "      <td>272893</td>\n",
       "      <td>33.643620</td>\n",
       "      <td>32.631733</td>\n",
       "      <td>32.745228</td>\n",
       "      <td>29.310396</td>\n",
       "      <td>36.038578</td>\n",
       "      <td>45.191353</td>\n",
       "      <td>1</td>\n",
       "    </tr>\n",
       "  </tbody>\n",
       "</table>\n",
       "<p>5 rows × 40 columns</p>\n",
       "</div>"
      ],
      "text/plain": [
       "   followers  friends  favorites  friends_favorites  followers_favorites  \\\n",
       "0        110      342          0                  0                    0   \n",
       "1        364      411          0                  0                    0   \n",
       "2        110      167          0                  0                    0   \n",
       "3    9555393      391         46              17986            439548078   \n",
       "4       7036     1078          1               1078                 7036   \n",
       "\n",
       "   followers_favorites_friends  followers_zTransformation  \\\n",
       "0                            0                  -0.120229   \n",
       "1                            0                  -0.120122   \n",
       "2                            0                  -0.120229   \n",
       "3                 171863298498                   3.908055   \n",
       "4                      7584808                  -0.117310   \n",
       "\n",
       "   friends_zTransformation  favorites_zTransformation  \\\n",
       "0                -0.164850                  -0.069161   \n",
       "1                -0.161276                  -0.069161   \n",
       "2                -0.173916                  -0.069161   \n",
       "3                -0.162312                  -0.042321   \n",
       "4                -0.126723                  -0.068578   \n",
       "\n",
       "   friends_favorites_zTransformation  ...  hour_ce  day_ce  week_of_month_ce  \\\n",
       "0                          -0.017861  ...    48621   43723            279535   \n",
       "1                          -0.017861  ...    65844   41160            131491   \n",
       "2                          -0.017861  ...    69965   43723            279535   \n",
       "3                          -0.017494  ...    67282   45848            305971   \n",
       "4                          -0.017839  ...    45686   42289            272893   \n",
       "\n",
       "   senti_pos_te  senti_neg_te  weekday_te    hour_te     day_te  \\\n",
       "0     37.004128     48.555542   36.043583  46.653622  35.377441   \n",
       "1     37.004128     46.482170   39.928677  27.654570  31.757542   \n",
       "2     36.522129     31.723640   36.566437  32.968044  37.284245   \n",
       "3     33.643620     32.631733   36.754681  36.272175  35.521835   \n",
       "4     33.643620     32.631733   32.745228  29.310396  36.038578   \n",
       "\n",
       "   week_of_month_te  retweets  \n",
       "0         34.443142         0  \n",
       "1         32.218277         0  \n",
       "2         35.013035         0  \n",
       "3         33.718510        17  \n",
       "4         45.191353         1  \n",
       "\n",
       "[5 rows x 40 columns]"
      ]
     },
     "execution_count": 3,
     "metadata": {},
     "output_type": "execute_result"
    }
   ],
   "source": [
    "# Test Code : Train data \n",
    "train_df.head(5)"
   ]
  },
  {
   "cell_type": "code",
   "execution_count": 124,
   "metadata": {},
   "outputs": [],
   "source": [
    "# Normalization \n",
    "def norm(data_x):\n",
    "    scaler_x = StandardScaler(copy=True)\n",
    "    scaler_x.fit(data_x)\n",
    "    data_x = scaler_x.transform(data_x)\n",
    "    return data_x,scaler_x"
   ]
  },
  {
   "cell_type": "code",
   "execution_count": 125,
   "metadata": {},
   "outputs": [],
   "source": [
    "train_lst= np.zeros(shape=(len(train_df),number_of_col))\n",
    "val_lst= np.zeros(shape=(len(valid_df),number_of_col))\n",
    "test_lst= np.zeros(shape=(len(test_df),number_of_col))\n",
    "\n",
    "for i in range(len(train_df.columns)):\n",
    "    col=train_df[train_df.columns[i]].to_numpy()\n",
    "    norm_col,scaler_x=norm(col.reshape(-1,1))\n",
    "    train_lst[:,i]=norm_col.reshape(1,-1)\n",
    "\n",
    "    val_col=valid_df[valid_df.columns[i]].to_numpy()\n",
    "    norm_val_col=scaler_x.transform(val_col.reshape(-1,1))\n",
    "    val_lst[:,i]=norm_val_col.reshape(1,-1)\n",
    "\n",
    "    test_col=test_df[test_df.columns[i]].to_numpy()\n",
    "    norm_test_col=scaler_x.transform(test_col.reshape(-1,1))\n",
    "    test_lst[:,i]=norm_test_col.reshape(1,-1)\n",
    "    # input_df[c]=norm_col\n",
    "\n",
    "norm_train_df=pd.DataFrame(train_lst,columns=train_df.columns)\n",
    "norm_valid_df=pd.DataFrame(val_lst,columns=train_df.columns)\n",
    "norm_test_df=pd.DataFrame(test_lst,columns=train_df.columns)\n",
    "    # print(norm_col)"
   ]
  },
  {
   "cell_type": "code",
   "execution_count": 126,
   "metadata": {},
   "outputs": [],
   "source": [
    "class Dataset(torch.utils.data.Dataset):\n",
    "  'Characterizes a dataset for PyTorch'\n",
    "  def __init__(self, df):\n",
    "        'Initialization'\n",
    "        self.labels = df[\"retweets\"].to_numpy()\n",
    "        self.features = df.drop([\"retweets\"],1).to_numpy()\n",
    "        # print(self.features)\n",
    "\n",
    "  def __len__(self):\n",
    "        'Denotes the total number of samples'\n",
    "        return len(self.features)\n",
    "\n",
    "  def __getitem__(self, index):\n",
    "        'Generates one sample of data'\n",
    "        # Load data and get label\n",
    "        X = self.features[index]\n",
    "        y = self.labels[index]\n",
    "        return X, y"
   ]
  },
  {
   "cell_type": "code",
   "execution_count": 134,
   "metadata": {},
   "outputs": [],
   "source": [
    "train_dataset = Dataset(norm_train_df)\n",
    "valid_dataset = Dataset(norm_valid_df)\n",
    "test_dataset = Dataset(norm_test_df)\n",
    "train_dataloader = torch.utils.data.DataLoader(train_dataset,batch_size=128,shuffle=True)\n",
    "valid_dataloader = torch.utils.data.DataLoader(valid_dataset,batch_size=128,shuffle=True)\n",
    "test_dataloader = torch.utils.data.DataLoader(test_dataset,batch_size=128,shuffle=True)"
   ]
  },
  {
   "cell_type": "markdown",
   "metadata": {},
   "source": [
    "# Model Train Net1 : \n",
    "\n",
    "## Result : \n",
    "Oscillation \n",
    "## Model name :  \n",
    "Net1\n",
    "## Model Parameter : \n",
    "\n",
    "- Number of layers : 3 \n",
    "- Each layers : 2048,128,64\n",
    "- Loass : MSE\n",
    "- Optimizer : Adam \n",
    "- Dropout : 0.5 \n",
    "- Structure :       \n",
    "                  nn.Linear(input,2048),\n",
    "                  nn.ReLU(),\n",
    "                  nn.Dropout(0.5)\n",
    "                  nn.Linear(2048,128),\n",
    "                  nn.ReLU(),\n",
    "                  nn.Dropout(0.5)\n",
    "                  nn.Linear(128,64),\n",
    "                  nn.ReLU(),\n",
    "                  nn.Dropout(0.5)"
   ]
  },
  {
   "cell_type": "code",
   "execution_count": 25,
   "metadata": {},
   "outputs": [],
   "source": [
    "import torch.nn as nn\n",
    "# model definition\n",
    "class Net1(nn.Module):\n",
    "    # define model elements\n",
    "    def __init__(self, n_inputs,channel_list):\n",
    "        super(TANH, self).__init__()\n",
    "        #input and hidden layers\n",
    "        self.layers = nn.ModuleList()\n",
    "        for i in range(len(channel_list)-2):\n",
    "          self.layers.append(\n",
    "              nn.Sequential(\n",
    "                  nn.Linear(channel_list[i],channel_list[i+1]),\n",
    "                  nn.ReLU(),\n",
    "                  nn.Dropout(0.5)\n",
    "              )                \n",
    "          )\n",
    "\n",
    "        #output layer\n",
    "        self.output = nn.Linear(channel_list[len(channel_list)-2], 1)\n",
    " \n",
    "    # forward propagate input\n",
    "    def forward(self, X):\n",
    "      #hidden layers\n",
    "      for layer in self.layers:\n",
    "        X = layer(X)\n",
    "      #output layer\n",
    "      X = self.output(X)\n",
    "      return X"
   ]
  },
  {
   "cell_type": "code",
   "execution_count": 32,
   "metadata": {},
   "outputs": [],
   "source": [
    "input_size= number_of_col\n",
    "size_hidden= 128\n",
    "output_size=1\n",
    "channel_list=[number_of_col-1,2048,128,64,1]\n",
    "model = Net1(input_size, channel_list)\n",
    "epochs=5\n",
    "criterion = torch.nn.MSELoss()\n",
    "optimizer = torch.optim.Adam(model.parameters(), lr=0.001)"
   ]
  },
  {
   "cell_type": "code",
   "execution_count": 34,
   "metadata": {
    "scrolled": true
   },
   "outputs": [
    {
     "name": "stdout",
     "output_type": "stream",
     "text": [
      "0 10158\n",
      "epoch 1/5\t traing loss : 0.36974122826444616\t validation loss: 0.23084189925888876\n",
      "1 10158\n",
      "epoch 2/5\t traing loss : 0.6156010765727963\t validation loss: 0.20358064213219285\n",
      "2 10158\n",
      "epoch 3/5\t traing loss : 0.36219934200952864\t validation loss: 0.25244287759836953\n",
      "3 10158\n",
      "epoch 4/5\t traing loss : 0.29398822273714925\t validation loss: 0.16507265199514398\n",
      "4 10158\n",
      "epoch 5/5\t traing loss : 0.35127029478670796\t validation loss: 0.2577263164165532\n"
     ]
    }
   ],
   "source": [
    "# Train model 1 Oscillation \n",
    "training_loss=[]\n",
    "validation_loss=[]\n",
    "\n",
    "for epoch in range(epochs):\n",
    "    print(epoch,len(train_dataloader))\n",
    "    running_loss = 0\n",
    "    model.train()\n",
    "    \n",
    "    for x, label in train_dataloader:\n",
    "        optimizer.zero_grad()\n",
    "        y=model(x.float())\n",
    "        loss=criterion(y,label.float().reshape(-1,1))\n",
    "        running_loss += loss.item()\n",
    "        loss.backward()\n",
    "        optimizer.step()\n",
    "\n",
    "    # Validate on validation dataset\n",
    "    model.eval()\n",
    "    running_loss_val=0\n",
    "    for x_val,label_val in valid_dataloader:\n",
    "        y_val=model(x_val.float())\n",
    "        loss_val=criterion(y_val,label_val.float().reshape(-1,1))\n",
    "        running_loss_val += loss_val.item()\n",
    "\n",
    "    # Store loss in the list to plot learning curves\n",
    "    training_loss.append(running_loss/len(train_dataloader))\n",
    "    validation_loss.append(running_loss_val/len(valid_dataloader))\n",
    "\n",
    "    # Print evolution of loss every epoch\n",
    "    print(\"epoch {}/{}\\t traing loss : {}\\t validation loss: {}\".format(epoch+1,epochs,running_loss/len(train_dataloader),running_loss_val/len(valid_dataloader)))\n"
   ]
  },
  {
   "cell_type": "markdown",
   "metadata": {},
   "source": [
    "# Model Train Net0 : \n",
    "\n",
    "## Result : \n",
    "Oscillation ; Slow ; Decrease from 0.82 ; \n",
    "## Model name :  \n",
    "Net0\n",
    "## Model Parameter : \n",
    "\n",
    "- Number of layers : 2\n",
    "- Each layers : 2048,128\n",
    "- Loass : MSE\n",
    "- Optimizer : Adam \n",
    "- Dropout : 0.5\n",
    "- Last Activation : sigmoid()\n",
    "- Batch Normalization : No \n",
    "- Structure :       \n",
    "                  nn.Linear(input,2048),\n",
    "                  nn.ReLU(),\n",
    "                  nn.Dropout(0.5)\n",
    "                  nn.Linear(2048,128),\n",
    "                  nn.ReLU(),\n",
    "                  nn.Dropout(0.5)\n",
    "                  nn.sigmoid()\n",
    "     "
   ]
  },
  {
   "cell_type": "code",
   "execution_count": 101,
   "metadata": {},
   "outputs": [],
   "source": [
    "# Net0 - 2 layers , no batch normalization \n",
    "class Net0(torch.nn.Module):\n",
    "    def __init__(self, input_size, output_size):\n",
    "        super().__init__()\n",
    "        \n",
    "        # Inputs to hidden layer linear transformation\n",
    "        self.hidden1 = torch.nn.Linear(input_size, 2048)\n",
    "        self.hidden2 = torch.nn.Linear(2048, 128)\n",
    "        # Output layer, 10 units - one for each digit\n",
    "        self.output = torch.nn.Linear(128, output_size)\n",
    "        \n",
    "        # Define sigmoid activation and softmax output \n",
    "        self.sigmoid = torch.nn.Sigmoid()\n",
    "        self.relu = torch.nn.ReLU()\n",
    "        self.dropout = torch.nn.Dropout(p=0.5)\n",
    "        \n",
    "    def forward(self, x):\n",
    "        # Pass the input tensor through each of our operations\n",
    "        x = self.hidden1(x) \n",
    "        x = self.relu(x)\n",
    "        x = self.dropout(x)\n",
    "        x = self.hidden2(x) \n",
    "        x = self.relu(x)\n",
    "        x = self.dropout(x)\n",
    "        x = self.sigmoid(x)\n",
    "        x = self.output(x)\n",
    "        return x"
   ]
  },
  {
   "cell_type": "code",
   "execution_count": 102,
   "metadata": {
    "scrolled": true
   },
   "outputs": [
    {
     "name": "stdout",
     "output_type": "stream",
     "text": [
      "0 10158\n",
      "epoch 1/20\t traing loss : 0.8209843215799733\t validation loss: 0.5170543969322402\n",
      "1 10158\n",
      "epoch 2/20\t traing loss : 0.7366161965925735\t validation loss: 0.47449952148700847\n",
      "2 10158\n",
      "epoch 3/20\t traing loss : 0.7168907307514223\t validation loss: 0.45437853302066256\n",
      "3 10158\n",
      "epoch 4/20\t traing loss : 0.7003032623665263\t validation loss: 0.44663637926152067\n",
      "4 10158\n",
      "epoch 5/20\t traing loss : 0.6874393123101358\t validation loss: 0.4266848735384446\n",
      "5 10158\n",
      "epoch 6/20\t traing loss : 0.6816035547873233\t validation loss: 0.4022314525461834\n",
      "6 10158\n",
      "epoch 7/20\t traing loss : 0.6686971543772584\t validation loss: 0.4282702371725457\n",
      "7 10158\n",
      "epoch 8/20\t traing loss : 0.6893400524334083\t validation loss: 0.4285061529770848\n",
      "8 10158\n",
      "epoch 9/20\t traing loss : 0.7031506380817463\t validation loss: 0.42585526688437075\n",
      "9 10158\n",
      "epoch 10/20\t traing loss : 0.6907869935303582\t validation loss: 0.45279141773498005\n",
      "10 10158\n",
      "epoch 11/20\t traing loss : 0.725780940047073\t validation loss: 0.48309341758016466\n",
      "11 10158\n",
      "epoch 12/20\t traing loss : 0.7510332431687453\t validation loss: 0.5045456736581712\n",
      "12 10158\n",
      "epoch 13/20\t traing loss : 0.7265282200637828\t validation loss: 0.46531702670057185\n",
      "13 10158\n"
     ]
    },
    {
     "ename": "KeyboardInterrupt",
     "evalue": "",
     "output_type": "error",
     "traceback": [
      "\u001b[0;31m---------------------------------------------------------------------------\u001b[0m",
      "\u001b[0;31mKeyboardInterrupt\u001b[0m                         Traceback (most recent call last)",
      "\u001b[0;32m<ipython-input-102-30c34e9cef15>\u001b[0m in \u001b[0;36m<module>\u001b[0;34m\u001b[0m\n\u001b[1;32m     18\u001b[0m     \u001b[0;32mfor\u001b[0m \u001b[0mx\u001b[0m\u001b[0;34m,\u001b[0m \u001b[0mlabel\u001b[0m \u001b[0;32min\u001b[0m \u001b[0mtrain_dataloader\u001b[0m\u001b[0;34m:\u001b[0m\u001b[0;34m\u001b[0m\u001b[0;34m\u001b[0m\u001b[0m\n\u001b[1;32m     19\u001b[0m         \u001b[0moptimizer\u001b[0m\u001b[0;34m.\u001b[0m\u001b[0mzero_grad\u001b[0m\u001b[0;34m(\u001b[0m\u001b[0;34m)\u001b[0m\u001b[0;34m\u001b[0m\u001b[0;34m\u001b[0m\u001b[0m\n\u001b[0;32m---> 20\u001b[0;31m         \u001b[0my\u001b[0m\u001b[0;34m=\u001b[0m\u001b[0mmodel\u001b[0m\u001b[0;34m(\u001b[0m\u001b[0mx\u001b[0m\u001b[0;34m.\u001b[0m\u001b[0mfloat\u001b[0m\u001b[0;34m(\u001b[0m\u001b[0;34m)\u001b[0m\u001b[0;34m)\u001b[0m\u001b[0;34m\u001b[0m\u001b[0;34m\u001b[0m\u001b[0m\n\u001b[0m\u001b[1;32m     21\u001b[0m         \u001b[0mloss\u001b[0m\u001b[0;34m=\u001b[0m\u001b[0mcriterion\u001b[0m\u001b[0;34m(\u001b[0m\u001b[0my\u001b[0m\u001b[0;34m,\u001b[0m\u001b[0mlabel\u001b[0m\u001b[0;34m.\u001b[0m\u001b[0mfloat\u001b[0m\u001b[0;34m(\u001b[0m\u001b[0;34m)\u001b[0m\u001b[0;34m.\u001b[0m\u001b[0mreshape\u001b[0m\u001b[0;34m(\u001b[0m\u001b[0;34m-\u001b[0m\u001b[0;36m1\u001b[0m\u001b[0;34m,\u001b[0m\u001b[0;36m1\u001b[0m\u001b[0;34m)\u001b[0m\u001b[0;34m)\u001b[0m\u001b[0;34m\u001b[0m\u001b[0;34m\u001b[0m\u001b[0m\n\u001b[1;32m     22\u001b[0m         \u001b[0mrunning_loss\u001b[0m \u001b[0;34m+=\u001b[0m \u001b[0mloss\u001b[0m\u001b[0;34m.\u001b[0m\u001b[0mitem\u001b[0m\u001b[0;34m(\u001b[0m\u001b[0;34m)\u001b[0m\u001b[0;34m\u001b[0m\u001b[0;34m\u001b[0m\u001b[0m\n",
      "\u001b[0;32m~/opt/anaconda3/lib/python3.8/site-packages/torch/nn/modules/module.py\u001b[0m in \u001b[0;36m_call_impl\u001b[0;34m(self, *input, **kwargs)\u001b[0m\n\u001b[1;32m    887\u001b[0m             \u001b[0mresult\u001b[0m \u001b[0;34m=\u001b[0m \u001b[0mself\u001b[0m\u001b[0;34m.\u001b[0m\u001b[0m_slow_forward\u001b[0m\u001b[0;34m(\u001b[0m\u001b[0;34m*\u001b[0m\u001b[0minput\u001b[0m\u001b[0;34m,\u001b[0m \u001b[0;34m**\u001b[0m\u001b[0mkwargs\u001b[0m\u001b[0;34m)\u001b[0m\u001b[0;34m\u001b[0m\u001b[0;34m\u001b[0m\u001b[0m\n\u001b[1;32m    888\u001b[0m         \u001b[0;32melse\u001b[0m\u001b[0;34m:\u001b[0m\u001b[0;34m\u001b[0m\u001b[0;34m\u001b[0m\u001b[0m\n\u001b[0;32m--> 889\u001b[0;31m             \u001b[0mresult\u001b[0m \u001b[0;34m=\u001b[0m \u001b[0mself\u001b[0m\u001b[0;34m.\u001b[0m\u001b[0mforward\u001b[0m\u001b[0;34m(\u001b[0m\u001b[0;34m*\u001b[0m\u001b[0minput\u001b[0m\u001b[0;34m,\u001b[0m \u001b[0;34m**\u001b[0m\u001b[0mkwargs\u001b[0m\u001b[0;34m)\u001b[0m\u001b[0;34m\u001b[0m\u001b[0;34m\u001b[0m\u001b[0m\n\u001b[0m\u001b[1;32m    890\u001b[0m         for hook in itertools.chain(\n\u001b[1;32m    891\u001b[0m                 \u001b[0m_global_forward_hooks\u001b[0m\u001b[0;34m.\u001b[0m\u001b[0mvalues\u001b[0m\u001b[0;34m(\u001b[0m\u001b[0;34m)\u001b[0m\u001b[0;34m,\u001b[0m\u001b[0;34m\u001b[0m\u001b[0;34m\u001b[0m\u001b[0m\n",
      "\u001b[0;32m<ipython-input-101-b5ee785108b3>\u001b[0m in \u001b[0;36mforward\u001b[0;34m(self, x)\u001b[0m\n\u001b[1;32m     24\u001b[0m         \u001b[0mx\u001b[0m \u001b[0;34m=\u001b[0m \u001b[0mself\u001b[0m\u001b[0;34m.\u001b[0m\u001b[0mdropout\u001b[0m\u001b[0;34m(\u001b[0m\u001b[0mx\u001b[0m\u001b[0;34m)\u001b[0m\u001b[0;34m\u001b[0m\u001b[0;34m\u001b[0m\u001b[0m\n\u001b[1;32m     25\u001b[0m         \u001b[0mx\u001b[0m \u001b[0;34m=\u001b[0m \u001b[0mself\u001b[0m\u001b[0;34m.\u001b[0m\u001b[0msigmoid\u001b[0m\u001b[0;34m(\u001b[0m\u001b[0mx\u001b[0m\u001b[0;34m)\u001b[0m\u001b[0;34m\u001b[0m\u001b[0;34m\u001b[0m\u001b[0m\n\u001b[0;32m---> 26\u001b[0;31m         \u001b[0mx\u001b[0m \u001b[0;34m=\u001b[0m \u001b[0mself\u001b[0m\u001b[0;34m.\u001b[0m\u001b[0moutput\u001b[0m\u001b[0;34m(\u001b[0m\u001b[0mx\u001b[0m\u001b[0;34m)\u001b[0m\u001b[0;34m\u001b[0m\u001b[0;34m\u001b[0m\u001b[0m\n\u001b[0m\u001b[1;32m     27\u001b[0m         \u001b[0;32mreturn\u001b[0m \u001b[0mx\u001b[0m\u001b[0;34m\u001b[0m\u001b[0;34m\u001b[0m\u001b[0m\n",
      "\u001b[0;32m~/opt/anaconda3/lib/python3.8/site-packages/torch/nn/modules/module.py\u001b[0m in \u001b[0;36m_call_impl\u001b[0;34m(self, *input, **kwargs)\u001b[0m\n\u001b[1;32m    887\u001b[0m             \u001b[0mresult\u001b[0m \u001b[0;34m=\u001b[0m \u001b[0mself\u001b[0m\u001b[0;34m.\u001b[0m\u001b[0m_slow_forward\u001b[0m\u001b[0;34m(\u001b[0m\u001b[0;34m*\u001b[0m\u001b[0minput\u001b[0m\u001b[0;34m,\u001b[0m \u001b[0;34m**\u001b[0m\u001b[0mkwargs\u001b[0m\u001b[0;34m)\u001b[0m\u001b[0;34m\u001b[0m\u001b[0;34m\u001b[0m\u001b[0m\n\u001b[1;32m    888\u001b[0m         \u001b[0;32melse\u001b[0m\u001b[0;34m:\u001b[0m\u001b[0;34m\u001b[0m\u001b[0;34m\u001b[0m\u001b[0m\n\u001b[0;32m--> 889\u001b[0;31m             \u001b[0mresult\u001b[0m \u001b[0;34m=\u001b[0m \u001b[0mself\u001b[0m\u001b[0;34m.\u001b[0m\u001b[0mforward\u001b[0m\u001b[0;34m(\u001b[0m\u001b[0;34m*\u001b[0m\u001b[0minput\u001b[0m\u001b[0;34m,\u001b[0m \u001b[0;34m**\u001b[0m\u001b[0mkwargs\u001b[0m\u001b[0;34m)\u001b[0m\u001b[0;34m\u001b[0m\u001b[0;34m\u001b[0m\u001b[0m\n\u001b[0m\u001b[1;32m    890\u001b[0m         for hook in itertools.chain(\n\u001b[1;32m    891\u001b[0m                 \u001b[0m_global_forward_hooks\u001b[0m\u001b[0;34m.\u001b[0m\u001b[0mvalues\u001b[0m\u001b[0;34m(\u001b[0m\u001b[0;34m)\u001b[0m\u001b[0;34m,\u001b[0m\u001b[0;34m\u001b[0m\u001b[0;34m\u001b[0m\u001b[0m\n",
      "\u001b[0;32m~/opt/anaconda3/lib/python3.8/site-packages/torch/nn/modules/linear.py\u001b[0m in \u001b[0;36mforward\u001b[0;34m(self, input)\u001b[0m\n\u001b[1;32m     92\u001b[0m \u001b[0;34m\u001b[0m\u001b[0m\n\u001b[1;32m     93\u001b[0m     \u001b[0;32mdef\u001b[0m \u001b[0mforward\u001b[0m\u001b[0;34m(\u001b[0m\u001b[0mself\u001b[0m\u001b[0;34m,\u001b[0m \u001b[0minput\u001b[0m\u001b[0;34m:\u001b[0m \u001b[0mTensor\u001b[0m\u001b[0;34m)\u001b[0m \u001b[0;34m->\u001b[0m \u001b[0mTensor\u001b[0m\u001b[0;34m:\u001b[0m\u001b[0;34m\u001b[0m\u001b[0;34m\u001b[0m\u001b[0m\n\u001b[0;32m---> 94\u001b[0;31m         \u001b[0;32mreturn\u001b[0m \u001b[0mF\u001b[0m\u001b[0;34m.\u001b[0m\u001b[0mlinear\u001b[0m\u001b[0;34m(\u001b[0m\u001b[0minput\u001b[0m\u001b[0;34m,\u001b[0m \u001b[0mself\u001b[0m\u001b[0;34m.\u001b[0m\u001b[0mweight\u001b[0m\u001b[0;34m,\u001b[0m \u001b[0mself\u001b[0m\u001b[0;34m.\u001b[0m\u001b[0mbias\u001b[0m\u001b[0;34m)\u001b[0m\u001b[0;34m\u001b[0m\u001b[0;34m\u001b[0m\u001b[0m\n\u001b[0m\u001b[1;32m     95\u001b[0m \u001b[0;34m\u001b[0m\u001b[0m\n\u001b[1;32m     96\u001b[0m     \u001b[0;32mdef\u001b[0m \u001b[0mextra_repr\u001b[0m\u001b[0;34m(\u001b[0m\u001b[0mself\u001b[0m\u001b[0;34m)\u001b[0m \u001b[0;34m->\u001b[0m \u001b[0mstr\u001b[0m\u001b[0;34m:\u001b[0m\u001b[0;34m\u001b[0m\u001b[0;34m\u001b[0m\u001b[0m\n",
      "\u001b[0;32m~/opt/anaconda3/lib/python3.8/site-packages/torch/nn/functional.py\u001b[0m in \u001b[0;36mlinear\u001b[0;34m(input, weight, bias)\u001b[0m\n\u001b[1;32m   1751\u001b[0m     \u001b[0;32mif\u001b[0m \u001b[0mhas_torch_function_variadic\u001b[0m\u001b[0;34m(\u001b[0m\u001b[0minput\u001b[0m\u001b[0;34m,\u001b[0m \u001b[0mweight\u001b[0m\u001b[0;34m)\u001b[0m\u001b[0;34m:\u001b[0m\u001b[0;34m\u001b[0m\u001b[0;34m\u001b[0m\u001b[0m\n\u001b[1;32m   1752\u001b[0m         \u001b[0;32mreturn\u001b[0m \u001b[0mhandle_torch_function\u001b[0m\u001b[0;34m(\u001b[0m\u001b[0mlinear\u001b[0m\u001b[0;34m,\u001b[0m \u001b[0;34m(\u001b[0m\u001b[0minput\u001b[0m\u001b[0;34m,\u001b[0m \u001b[0mweight\u001b[0m\u001b[0;34m)\u001b[0m\u001b[0;34m,\u001b[0m \u001b[0minput\u001b[0m\u001b[0;34m,\u001b[0m \u001b[0mweight\u001b[0m\u001b[0;34m,\u001b[0m \u001b[0mbias\u001b[0m\u001b[0;34m=\u001b[0m\u001b[0mbias\u001b[0m\u001b[0;34m)\u001b[0m\u001b[0;34m\u001b[0m\u001b[0;34m\u001b[0m\u001b[0m\n\u001b[0;32m-> 1753\u001b[0;31m     \u001b[0;32mreturn\u001b[0m \u001b[0mtorch\u001b[0m\u001b[0;34m.\u001b[0m\u001b[0m_C\u001b[0m\u001b[0;34m.\u001b[0m\u001b[0m_nn\u001b[0m\u001b[0;34m.\u001b[0m\u001b[0mlinear\u001b[0m\u001b[0;34m(\u001b[0m\u001b[0minput\u001b[0m\u001b[0;34m,\u001b[0m \u001b[0mweight\u001b[0m\u001b[0;34m,\u001b[0m \u001b[0mbias\u001b[0m\u001b[0;34m)\u001b[0m\u001b[0;34m\u001b[0m\u001b[0;34m\u001b[0m\u001b[0m\n\u001b[0m\u001b[1;32m   1754\u001b[0m \u001b[0;34m\u001b[0m\u001b[0m\n\u001b[1;32m   1755\u001b[0m \u001b[0;34m\u001b[0m\u001b[0m\n",
      "\u001b[0;31mKeyboardInterrupt\u001b[0m: "
     ]
    }
   ],
   "source": [
    "input_size= number_of_col-1\n",
    "size_hidden= 128\n",
    "output_size=1\n",
    "model = Net0(input_size, 1)\n",
    "epochs=20\n",
    "criterion = torch.nn.MSELoss()\n",
    "optimizer = torch.optim.Adam(model.parameters(), lr=0.001)\n",
    "\n",
    "# Train model 1 \n",
    "training_loss=[]\n",
    "validation_loss=[]\n",
    "\n",
    "for epoch in range(epochs):\n",
    "    print(epoch,len(train_dataloader))\n",
    "    running_loss = 0\n",
    "    model.train()\n",
    "    \n",
    "    for x, label in train_dataloader:\n",
    "        optimizer.zero_grad()\n",
    "        y=model(x.float())\n",
    "        loss=criterion(y,label.float().reshape(-1,1))\n",
    "        running_loss += loss.item()\n",
    "        loss.backward()\n",
    "        optimizer.step()\n",
    "\n",
    "    # Validate on validation dataset\n",
    "    model.eval()\n",
    "    running_loss_val=0\n",
    "    for x_val,label_val in valid_dataloader:\n",
    "        y_val=model(x_val.float())\n",
    "        loss_val=criterion(y_val,label_val.float().reshape(-1,1))\n",
    "        running_loss_val += loss_val.item()\n",
    "\n",
    "    # Store loss in the list to plot learning curves\n",
    "    training_loss.append(running_loss/len(train_dataloader))\n",
    "    validation_loss.append(running_loss_val/len(valid_dataloader))\n",
    "\n",
    "    # Print evolution of loss every epoch\n",
    "    print(\"epoch {}/{}\\t traing loss : {}\\t validation loss: {}\".format(epoch+1,epochs,running_loss/len(train_dataloader),running_loss_val/len(valid_dataloader)))\n"
   ]
  },
  {
   "cell_type": "markdown",
   "metadata": {},
   "source": [
    "# Model Train Net2 : \n",
    "\n",
    "## Result : \n",
    "No Oscillation ; Slow ; Decrease from 0.87 ; \n",
    "## Model name :  \n",
    "Net2\n",
    "## Model Parameter : \n",
    "\n",
    "- Number of layers : 4\n",
    "- Each layers : 2048,512,256,128\n",
    "- Loass : MSE\n",
    "- Optimizer : Adam \n",
    "- Dropout : 0.5\n",
    "- Last Activation : sigmoid()\n",
    "- Batch Normalization : No \n",
    "- Structure :     \n",
    "                  nn.Linear(input,2048),\n",
    "                  nn.ReLU(),\n",
    "                  nn.Dropout(0.5)\n",
    "                  nn.Linear(2048,512),\n",
    "                  nn.ReLU(),\n",
    "                  nn.Dropout(0.5)\n",
    "                  nn.Linear(512,256),\n",
    "                  nn.ReLU(),\n",
    "                  nn.Dropout(0.5)\n",
    "                  nn.Linear(256,128),\n",
    "                  nn.ReLU(),\n",
    "                  nn.Dropout(0.5)\n",
    "                  nn.sigmoid()\n",
    "     "
   ]
  },
  {
   "cell_type": "code",
   "execution_count": 39,
   "metadata": {},
   "outputs": [],
   "source": [
    "# Net2 model FOUR hidden layers , decrese , but slow that network2 \n",
    "class Net2(torch.nn.Module):\n",
    "    def __init__(self, input_size, output_size):\n",
    "        super().__init__()\n",
    "        \n",
    "        # Inputs to hidden layer linear transformation\n",
    "        self.hidden1 = torch.nn.Linear(input_size, 2048)\n",
    "        self.hidden2 = torch.nn.Linear(2048, 512)\n",
    "        self.hidden3 = torch.nn.Linear(512, 256)\n",
    "        self.hidden4 = torch.nn.Linear(256, 128)\n",
    "        # Output layer, 10 units - one for each digit\n",
    "        self.output = torch.nn.Linear(128, output_size)\n",
    "        \n",
    "        # Define sigmoid activation and softmax output \n",
    "        self.sigmoid = torch.nn.Sigmoid()\n",
    "        self.softmax = torch.nn.Softmax(dim=1)\n",
    "        self.relu = torch.nn.ReLU()\n",
    "        self.dropout = torch.nn.Dropout(p=0.5)\n",
    "        \n",
    "    def forward(self, x):\n",
    "        # Pass the input tensor through each of our operations\n",
    "        x = self.hidden1(x)\n",
    "        x = self.relu(x)\n",
    "        x = self.dropout(x)\n",
    "        \n",
    "        x = self.hidden2(x)\n",
    "        x = self.relu(x)\n",
    "        x = self.dropout(x)\n",
    "        \n",
    "        x = self.hidden3(x)\n",
    "        x = self.relu(x)\n",
    "        x = self.dropout(x)\n",
    "\n",
    "        x = self.hidden4(x)\n",
    "        x = self.relu(x)\n",
    "        x = self.dropout(x)\n",
    "        \n",
    "        x = self.sigmoid(x)\n",
    "        x = self.output(x)\n",
    "        # x = self.softmax(x)\n",
    "        \n",
    "        return x"
   ]
  },
  {
   "cell_type": "code",
   "execution_count": 43,
   "metadata": {},
   "outputs": [],
   "source": [
    "input_size= number_of_col-1\n",
    "size_hidden= 128\n",
    "output_size=1\n",
    "channel_list=[number_of_col-1,128,128,64,1]\n",
    "model = Net2(input_size, 1)\n",
    "epochs=5\n",
    "criterion = torch.nn.MSELoss()\n",
    "optimizer = torch.optim.Adam(model.parameters(), lr=0.001)"
   ]
  },
  {
   "cell_type": "code",
   "execution_count": 44,
   "metadata": {},
   "outputs": [
    {
     "name": "stdout",
     "output_type": "stream",
     "text": [
      "0 10158\n",
      "epoch 1/5\t traing loss : 0.8771515294771401\t validation loss: 1.2487792572715568\n",
      "1 10158\n",
      "epoch 2/5\t traing loss : 0.8347511849881207\t validation loss: 0.7637267901077168\n",
      "2 10158\n",
      "epoch 3/5\t traing loss : 0.8088140548282047\t validation loss: 0.7134696470871933\n",
      "3 10158\n",
      "epoch 4/5\t traing loss : 0.7963440546027045\t validation loss: 0.6238795657380783\n",
      "4 10158\n",
      "epoch 5/5\t traing loss : 0.7900380790708533\t validation loss: 0.6451338381705567\n"
     ]
    }
   ],
   "source": [
    "\n",
    "training_loss=[]\n",
    "validation_loss=[]\n",
    "\n",
    "for epoch in range(epochs):\n",
    "    print(epoch,len(train_dataloader))\n",
    "    running_loss = 0\n",
    "    model.train()\n",
    "    \n",
    "    for x, label in train_dataloader:\n",
    "        optimizer.zero_grad()\n",
    "        y=model(x.float())\n",
    "        loss=criterion(y,label.float().reshape(-1,1))\n",
    "        running_loss += loss.item()\n",
    "        loss.backward()\n",
    "        optimizer.step()\n",
    "\n",
    "    # Validate on validation dataset\n",
    "    model.eval()\n",
    "    running_loss_val=0\n",
    "    for x_val,label_val in valid_dataloader:\n",
    "        y_val=model(x_val.float())\n",
    "        loss_val=criterion(y_val,label_val.float().reshape(-1,1))\n",
    "        running_loss_val += loss_val.item()\n",
    "\n",
    "    # Store loss in the list to plot learning curves\n",
    "    training_loss.append(running_loss/len(train_dataloader))\n",
    "    validation_loss.append(running_loss_val/len(valid_dataloader))\n",
    "\n",
    "    # Print evolution of loss every epoch\n",
    "    print(\"epoch {}/{}\\t traing loss : {}\\t validation loss: {}\".format(epoch+1,epochs,running_loss/len(train_dataloader),running_loss_val/len(valid_dataloader)))\n"
   ]
  },
  {
   "cell_type": "markdown",
   "metadata": {},
   "source": [
    "# Model Train Net3 : \n",
    "\n",
    "## Good Result : \n",
    "Good; No Oscillation ; Fast ; Decrease from 0.35 ; \n",
    "## Model name :  \n",
    "Net3\n",
    "## Model Parameter : \n",
    "\n",
    "- Number of hidden layers : 3\n",
    "- Each layers : 2048,512,128\n",
    "- Loass : MSE\n",
    "- Optimizer : Adam \n",
    "- Dropout : 0\n",
    "- Last Activation : Sigmoid\n",
    "- Batch Normalization : No\n",
    "- Structure :     \n",
    "                  nn.Linear(input,2048),\n",
    "                  nn.ReLU(),\n",
    "                  nn.Dropout(0.5)\n",
    "                  nn.Linear(2048,512),\n",
    "                  nn.ReLU(),\n",
    "                  nn.Dropout(0.5)\n",
    "                  nn.Linear(512,128),\n",
    "                  nn.ReLU(),\n",
    "                  nn.Sigmoid(),\n",
    "                 "
   ]
  },
  {
   "cell_type": "code",
   "execution_count": 78,
   "metadata": {},
   "outputs": [],
   "source": [
    "\n",
    "class Net3(torch.nn.Module):\n",
    "    def __init__(self, input_size, output_size):\n",
    "        super().__init__()\n",
    "        \n",
    "        # Inputs to hidden layer linear transformation\n",
    "        self.hidden1 = torch.nn.Linear(input_size, 2048)\n",
    "        self.relu = torch.nn.ReLU()\n",
    "        self.hidden2 = torch.nn.Linear(2048, 512)\n",
    "        self.relu = torch.nn.ReLU()\n",
    "        self.hidden3 = torch.nn.Linear(512, 128)\n",
    "        self.relu = torch.nn.ReLU()\n",
    "        self.output = torch.nn.Linear(128, output_size)\n",
    "        self.sigmoid = torch.nn.Sigmoid()\n",
    "        \n",
    "    def forward(self, x):\n",
    "        \n",
    "        x = self.relu(self.hidden1(x))\n",
    "        x = self.relu(self.hidden2(x))\n",
    "        x = self.relu(self.hidden3(x))\n",
    "        x = nn.Sigmoid()\n",
    "        x = self.output(x)\n",
    "        \n",
    "        return x"
   ]
  },
  {
   "cell_type": "code",
   "execution_count": 79,
   "metadata": {},
   "outputs": [],
   "source": [
    "input_size= number_of_col-1\n",
    "size_hidden= 128\n",
    "output_size=1\n",
    "model = Net3(input_size, 1)\n",
    "epochs=5\n",
    "criterion = torch.nn.MSELoss()\n",
    "optimizer = torch.optim.Adam(model.parameters(), lr=0.001)"
   ]
  },
  {
   "cell_type": "code",
   "execution_count": 80,
   "metadata": {},
   "outputs": [
    {
     "name": "stdout",
     "output_type": "stream",
     "text": [
      "0 10158\n",
      "epoch 1/5\t traing loss : 0.35085593272824855\t validation loss: 3.9435692515903384\n",
      "1 10158\n",
      "epoch 2/5\t traing loss : 0.33997039181632943\t validation loss: 1.785681372185784\n",
      "2 10158\n",
      "epoch 3/5\t traing loss : 0.3578981831269494\t validation loss: 0.7380500144205925\n",
      "3 10158\n",
      "epoch 4/5\t traing loss : 0.23477817855294567\t validation loss: 1.1190144745891966\n",
      "4 10158\n",
      "epoch 5/5\t traing loss : 0.20690901891491786\t validation loss: 0.4849992956962681\n"
     ]
    }
   ],
   "source": [
    "training_loss=[]\n",
    "validation_loss=[]\n",
    "\n",
    "for epoch in range(epochs):\n",
    "    print(epoch,len(train_dataloader))\n",
    "    running_loss = 0\n",
    "    model.train()\n",
    "    \n",
    "    for x, label in train_dataloader:\n",
    "        optimizer.zero_grad()\n",
    "        y=model(x.float())\n",
    "        loss=criterion(y,label.float().reshape(-1,1))\n",
    "        running_loss += loss.item()\n",
    "        loss.backward()\n",
    "        optimizer.step()\n",
    "\n",
    "    # Validate on validation dataset\n",
    "    model.eval()\n",
    "    running_loss_val=0\n",
    "    for x_val,label_val in valid_dataloader:\n",
    "        y_val=model(x_val.float())\n",
    "        loss_val=criterion(y_val,label_val.float().reshape(-1,1))\n",
    "        running_loss_val += loss_val.item()\n",
    "\n",
    "    # Store loss in the list to plot learning curves\n",
    "    training_loss.append(running_loss/len(train_dataloader))\n",
    "    validation_loss.append(running_loss_val/len(valid_dataloader))\n",
    "\n",
    "    # Print evolution of loss every epoch\n",
    "    print(\"epoch {}/{}\\t traing loss : {}\\t validation loss: {}\".format(epoch+1,epochs,running_loss/len(train_dataloader),running_loss_val/len(valid_dataloader)))\n"
   ]
  },
  {
   "cell_type": "markdown",
   "metadata": {},
   "source": [
    "# Model Net4 : No droupout + sigmoid  \n",
    "\n",
    "## Good Result : \n",
    "Good; No Oscillation ; Slow ; Decrease from 0.65; \n",
    "## Model name :  \n",
    "Net4\n",
    "## Model Parameter : \n",
    "\n",
    "- Number of hidden layers : 3\n",
    "- Each layers : 2048,512,128\n",
    "- Loass : MSE\n",
    "- Optimizer : Adam \n",
    "- Dropout : No\n",
    "- Last Activation :sigmoid\n",
    "- Batch Normalization : Yes\n",
    "- Structure : \n",
    "                  nn.Linear(input,2048),\n",
    "                  nn.BatchNorm1d(2048)\n",
    "                  nn.ReLU(),   \n",
    "                  nn.Linear(2048,512),\n",
    "                  nn.BatchNorm1d(512)\n",
    "                  nn.ReLU(),\n",
    "                  nn.Linear(512,128),\n",
    "                  nn.BatchNorm1d(128)\n",
    "                  nn.ReLU(),\n",
    "                  nn.Sigmoid()\n",
    "                 "
   ]
  },
  {
   "cell_type": "code",
   "execution_count": 86,
   "metadata": {},
   "outputs": [],
   "source": [
    "class Net4(nn.Module):\n",
    "    def __init__(self, input_size, output_size):\n",
    "        super().__init__()\n",
    "        self.hidden1 = nn.Linear(input_size,2048)\n",
    "        self.bn1 = nn.BatchNorm1d(2048)\n",
    "        self.hidden2 = nn.Linear(2048,512)\n",
    "        self.bn2 = nn.BatchNorm1d(512)\n",
    "        self.hidden3 = nn.Linear(512,128)\n",
    "        self.bn3 = nn.BatchNorm1d(128)\n",
    "        self.output = nn.Linear(128, output_size)\n",
    "        \n",
    "        self.relu = torch.nn.ReLU()\n",
    "        self.sigmoid = torch.nn.Sigmoid()\n",
    "\n",
    "    def forward(self,x):  # Input is a 1D tensor\n",
    "        x = self.relu(self.bn1(self.hidden1(x)))\n",
    "        x = self.relu(self.bn2(self.hidden2(x)))\n",
    "        x = self.relu(self.bn3(self.hidden3(x)))\n",
    "        x = self.output(self.sigmoid(x))\n",
    "        return x"
   ]
  },
  {
   "cell_type": "code",
   "execution_count": 91,
   "metadata": {},
   "outputs": [],
   "source": [
    "input_size= number_of_col-1\n",
    "output_size=1\n",
    "model = Net4(input_size, 1)\n",
    "epochs=20\n",
    "criterion = torch.nn.MSELoss()\n",
    "optimizer = torch.optim.Adam(model.parameters(), lr=0.001)"
   ]
  },
  {
   "cell_type": "code",
   "execution_count": 92,
   "metadata": {
    "scrolled": true
   },
   "outputs": [
    {
     "name": "stdout",
     "output_type": "stream",
     "text": [
      "0 10158\n",
      "epoch 1/20\t traing loss : 0.6519887092416397\t validation loss: 0.35313528104035274\n",
      "1 10158\n",
      "epoch 2/20\t traing loss : 0.5127373837799442\t validation loss: 0.3330982380599824\n",
      "2 10158\n",
      "epoch 3/20\t traing loss : 0.46913746594970573\t validation loss: 0.2894495785666903\n",
      "3 10158\n",
      "epoch 4/20\t traing loss : 0.4446710851055725\t validation loss: 0.2630509936345499\n",
      "4 10158\n",
      "epoch 5/20\t traing loss : 0.4179223859998988\t validation loss: 0.21745016016721658\n",
      "5 10158\n",
      "epoch 6/20\t traing loss : 0.41365394289746743\t validation loss: 0.2548909946175443\n",
      "6 10158\n",
      "epoch 7/20\t traing loss : 0.39527301082971844\t validation loss: 0.222926383564188\n",
      "7 10158\n",
      "epoch 8/20\t traing loss : 0.38346410872792264\t validation loss: 0.20337741527812775\n",
      "8 10158\n",
      "epoch 9/20\t traing loss : 0.37555788285278213\t validation loss: 0.29020490903557566\n",
      "9 10158\n",
      "epoch 10/20\t traing loss : 0.36905568335361866\t validation loss: 0.226553540556313\n",
      "10 10158\n",
      "epoch 11/20\t traing loss : 0.36381985133634237\t validation loss: 0.18453159062443272\n",
      "11 10158\n",
      "epoch 12/20\t traing loss : 0.3532980498932862\t validation loss: 0.2417226615297454\n",
      "12 10158\n",
      "epoch 13/20\t traing loss : 0.3577413755127227\t validation loss: 0.19891556715233263\n",
      "13 10158\n",
      "epoch 14/20\t traing loss : 0.34391724467881035\t validation loss: 0.19641125017514435\n",
      "14 10158\n",
      "epoch 15/20\t traing loss : 0.33936694286681884\t validation loss: 0.2103611148464951\n",
      "15 10158\n",
      "epoch 16/20\t traing loss : 0.3363141649272304\t validation loss: 0.17322661640394324\n",
      "16 10158\n",
      "epoch 17/20\t traing loss : 0.33281186395330037\t validation loss: 0.20383951710678894\n",
      "17 10158\n",
      "epoch 18/20\t traing loss : 0.3201096395326607\t validation loss: 0.21709407896941318\n",
      "18 10158\n",
      "epoch 19/20\t traing loss : 0.3217779537011795\t validation loss: 0.1580457031629279\n",
      "19 10158\n",
      "epoch 20/20\t traing loss : 0.3211018999935452\t validation loss: 0.18512531130626383\n"
     ]
    }
   ],
   "source": [
    "# Train model 2 Best model (Based on network , add batch normalization)\n",
    "training_loss=[]\n",
    "validation_loss=[]\n",
    "\n",
    "for epoch in range(epochs):\n",
    "    print(epoch,len(train_dataloader))\n",
    "    running_loss = 0\n",
    "    model.train()\n",
    "    \n",
    "    for x, label in train_dataloader:\n",
    "        optimizer.zero_grad()\n",
    "        y=model(x.float())\n",
    "        loss=criterion(y,label.float().reshape(-1,1))\n",
    "        running_loss += loss.item()\n",
    "        # print(running_loss)\n",
    "        # accuracy=calculate_accuracy(y,label.float().reshape(-1,1))\n",
    "        # running_accuracy += accuracy.item()\n",
    "\n",
    "        loss.backward()\n",
    "        optimizer.step()\n",
    "\n",
    "    # Validate on validation dataset\n",
    "    model.eval()\n",
    "    running_loss_val=0\n",
    "    for x_val,label_val in valid_dataloader:\n",
    "        y_val=model(x_val.float())\n",
    "        loss_val=criterion(y_val,label_val.float().reshape(-1,1))\n",
    "        running_loss_val += loss_val.item()\n",
    "\n",
    "    # Store loss in the list to plot learning curves\n",
    "    training_loss.append(running_loss/len(train_dataloader))\n",
    "    validation_loss.append(running_loss_val/len(valid_dataloader))\n",
    "\n",
    "    # Print evolution of loss every epoch\n",
    "    print(\"epoch {}/{}\\t traing loss : {}\\t validation loss: {}\".format(epoch+1,epochs,running_loss/len(train_dataloader),running_loss_val/len(valid_dataloader)))\n"
   ]
  },
  {
   "cell_type": "markdown",
   "metadata": {},
   "source": [
    "# Model Train Net5 :  Best !  No Dropout ; Relu\n",
    "\n",
    "## Best Result : \n",
    "Good; No Oscillation ; Fast ; Decrease from 0.45; \n",
    "## Model name :  \n",
    "Net5\n",
    "## Model Parameter : \n",
    "\n",
    "- Number of hidden layers : 3\n",
    "- Each layers : 2048,512,128\n",
    "- Loass : MSE\n",
    "- Optimizer : Adam \n",
    "- Dropout : No\n",
    "- Last Activation :relu\n",
    "- Batch Normalization : Yes\n",
    "- Structure : \n",
    "                  nn.Linear(input,2048),\n",
    "                  nn.BatchNorm1d(2048)\n",
    "                  nn.ReLU(),   \n",
    "                  nn.Linear(2048,512),\n",
    "                  nn.BatchNorm1d(512)\n",
    "                  nn.ReLU(),\n",
    "                  nn.Linear(512,128),\n",
    "                  nn.BatchNorm1d(128)\n",
    "                  nn.ReLU(),\n",
    "                  nn.ReLU(),\n",
    "                 "
   ]
  },
  {
   "cell_type": "code",
   "execution_count": 105,
   "metadata": {},
   "outputs": [],
   "source": [
    "# Train model 6 based on network1 (last act to relu)\n",
    "class Net5(nn.Module):\n",
    "    def __init__(self, input_size, output_size):\n",
    "        super().__init__()\n",
    "        self.hidden1 = nn.Linear(input_size,2048)\n",
    "        self.bn1 = nn.BatchNorm1d(2048)\n",
    "        self.hidden2 = nn.Linear(2048,512)\n",
    "        self.bn2 = nn.BatchNorm1d(512)\n",
    "        self.hidden3 = nn.Linear(512,128)\n",
    "        self.bn3 = nn.BatchNorm1d(128)\n",
    "        self.output = nn.Linear(128, output_size)\n",
    "        \n",
    "        self.relu = torch.nn.ReLU()\n",
    "        self.sigmoid = torch.nn.Sigmoid()\n",
    "\n",
    "    def forward(self,x):  # Input is a 1D tensor\n",
    "        x = self.relu(self.bn1(self.hidden1(x)))\n",
    "        x = self.relu(self.bn2(self.hidden2(x)))\n",
    "        x = self.relu(self.bn3(self.hidden3(x)))\n",
    "        x = self.output(self.relu(x))\n",
    "        return x"
   ]
  },
  {
   "cell_type": "code",
   "execution_count": 106,
   "metadata": {},
   "outputs": [
    {
     "name": "stdout",
     "output_type": "stream",
     "text": [
      "0 10158\n",
      "epoch 1/40\t traing loss : 0.45959740254776477\t validation loss: 1.5801160031782495\n",
      "1 10158\n",
      "epoch 2/40\t traing loss : 0.3606043070781925\t validation loss: 0.2432074875914521\n",
      "2 10158\n",
      "epoch 3/40\t traing loss : 0.34136310745283965\t validation loss: 0.18061302800275075\n",
      "3 10158\n",
      "epoch 4/40\t traing loss : 0.31812251912860656\t validation loss: 1.1683349818184918\n",
      "4 10158\n",
      "epoch 5/40\t traing loss : 0.29419716993674533\t validation loss: 0.3465436754506356\n",
      "5 10158\n",
      "epoch 6/40\t traing loss : 0.26791360536818054\t validation loss: 0.29350163061828394\n",
      "6 10158\n",
      "epoch 7/40\t traing loss : 0.2746251691771819\t validation loss: 0.40624648576855016\n",
      "7 10158\n",
      "epoch 8/40\t traing loss : 0.27541424051663566\t validation loss: 0.7010690172124237\n",
      "8 10158\n",
      "epoch 9/40\t traing loss : 0.25386797179092346\t validation loss: 0.26452218193044685\n",
      "9 10158\n",
      "epoch 10/40\t traing loss : 0.2061884867798324\t validation loss: 0.283232503929057\n",
      "10 10158\n",
      "epoch 11/40\t traing loss : 0.21130365736419576\t validation loss: 0.7817513636857377\n",
      "11 10158\n",
      "epoch 12/40\t traing loss : 0.22004956008230053\t validation loss: 3.1508100544981863\n",
      "12 10158\n",
      "epoch 13/40\t traing loss : 0.20522840071990445\t validation loss: 0.35331740901946346\n",
      "13 10158\n",
      "epoch 14/40\t traing loss : 0.2206563259870021\t validation loss: 0.22082844187390427\n",
      "14 10158\n",
      "epoch 15/40\t traing loss : 0.2108259531857385\t validation loss: 0.39033087821605017\n",
      "15 10158\n",
      "epoch 16/40\t traing loss : 0.1879505334373125\t validation loss: 0.2725610403610632\n",
      "16 10158\n",
      "epoch 17/40\t traing loss : 0.16643110973636988\t validation loss: 0.23035293650273767\n",
      "17 10158\n",
      "epoch 18/40\t traing loss : 0.15754297450064259\t validation loss: 0.26738035046574044\n",
      "18 10158\n",
      "epoch 19/40\t traing loss : 0.16169443076248072\t validation loss: 0.29925629000866427\n",
      "19 10158\n",
      "epoch 20/40\t traing loss : 0.1586303883003311\t validation loss: 0.18126692732572489\n",
      "20 10158\n",
      "epoch 21/40\t traing loss : 0.18211715401963613\t validation loss: 0.19213654139793543\n",
      "21 10158\n",
      "epoch 22/40\t traing loss : 0.17216933249497024\t validation loss: 0.3679589006379359\n",
      "22 10158\n",
      "epoch 23/40\t traing loss : 0.15025886828274418\t validation loss: 0.7434857825272572\n",
      "23 10158\n",
      "epoch 24/40\t traing loss : 0.16239190480436333\t validation loss: 0.5842838120467658\n",
      "24 10158\n",
      "epoch 25/40\t traing loss : 0.16067350796482713\t validation loss: 0.39959958605285417\n",
      "25 10158\n",
      "epoch 26/40\t traing loss : 0.14414386300022478\t validation loss: 0.7373783320874443\n",
      "26 10158\n",
      "epoch 27/40\t traing loss : 0.14596200636299464\t validation loss: 0.39196352292937325\n",
      "27 10158\n",
      "epoch 28/40\t traing loss : 0.15317575256207494\t validation loss: 0.8773169392278931\n",
      "28 10158\n",
      "epoch 29/40\t traing loss : 0.14054125979228763\t validation loss: 0.41966653522561165\n",
      "29 10158\n",
      "epoch 30/40\t traing loss : 0.14791166522992336\t validation loss: 0.30190907619766383\n",
      "30 10158\n",
      "epoch 31/40\t traing loss : 0.1428101158429706\t validation loss: 0.39716814367596387\n",
      "31 10158\n",
      "epoch 32/40\t traing loss : 0.13849419936751642\t validation loss: 0.5798690986488345\n",
      "32 10158\n",
      "epoch 33/40\t traing loss : 0.12325282718878866\t validation loss: 0.5972228834538217\n",
      "33 10158\n",
      "epoch 34/40\t traing loss : 0.13774228652915455\t validation loss: 0.342236572131847\n",
      "34 10158\n",
      "epoch 35/40\t traing loss : 0.12191077414517285\t validation loss: 0.328735358253394\n",
      "35 10158\n"
     ]
    },
    {
     "ename": "KeyboardInterrupt",
     "evalue": "",
     "output_type": "error",
     "traceback": [
      "\u001b[0;31m---------------------------------------------------------------------------\u001b[0m",
      "\u001b[0;31mKeyboardInterrupt\u001b[0m                         Traceback (most recent call last)",
      "\u001b[0;32m<ipython-input-106-87cc4e2bb272>\u001b[0m in \u001b[0;36m<module>\u001b[0;34m\u001b[0m\n\u001b[1;32m     17\u001b[0m     \u001b[0;32mfor\u001b[0m \u001b[0mx\u001b[0m\u001b[0;34m,\u001b[0m \u001b[0mlabel\u001b[0m \u001b[0;32min\u001b[0m \u001b[0mtrain_dataloader\u001b[0m\u001b[0;34m:\u001b[0m\u001b[0;34m\u001b[0m\u001b[0;34m\u001b[0m\u001b[0m\n\u001b[1;32m     18\u001b[0m         \u001b[0moptimizer\u001b[0m\u001b[0;34m.\u001b[0m\u001b[0mzero_grad\u001b[0m\u001b[0;34m(\u001b[0m\u001b[0;34m)\u001b[0m\u001b[0;34m\u001b[0m\u001b[0;34m\u001b[0m\u001b[0m\n\u001b[0;32m---> 19\u001b[0;31m         \u001b[0my\u001b[0m\u001b[0;34m=\u001b[0m\u001b[0mmodel\u001b[0m\u001b[0;34m(\u001b[0m\u001b[0mx\u001b[0m\u001b[0;34m.\u001b[0m\u001b[0mfloat\u001b[0m\u001b[0;34m(\u001b[0m\u001b[0;34m)\u001b[0m\u001b[0;34m)\u001b[0m\u001b[0;34m\u001b[0m\u001b[0;34m\u001b[0m\u001b[0m\n\u001b[0m\u001b[1;32m     20\u001b[0m         \u001b[0mloss\u001b[0m\u001b[0;34m=\u001b[0m\u001b[0mcriterion\u001b[0m\u001b[0;34m(\u001b[0m\u001b[0my\u001b[0m\u001b[0;34m,\u001b[0m\u001b[0mlabel\u001b[0m\u001b[0;34m.\u001b[0m\u001b[0mfloat\u001b[0m\u001b[0;34m(\u001b[0m\u001b[0;34m)\u001b[0m\u001b[0;34m.\u001b[0m\u001b[0mreshape\u001b[0m\u001b[0;34m(\u001b[0m\u001b[0;34m-\u001b[0m\u001b[0;36m1\u001b[0m\u001b[0;34m,\u001b[0m\u001b[0;36m1\u001b[0m\u001b[0;34m)\u001b[0m\u001b[0;34m)\u001b[0m\u001b[0;34m\u001b[0m\u001b[0;34m\u001b[0m\u001b[0m\n\u001b[1;32m     21\u001b[0m         \u001b[0mrunning_loss\u001b[0m \u001b[0;34m+=\u001b[0m \u001b[0mloss\u001b[0m\u001b[0;34m.\u001b[0m\u001b[0mitem\u001b[0m\u001b[0;34m(\u001b[0m\u001b[0;34m)\u001b[0m\u001b[0;34m\u001b[0m\u001b[0;34m\u001b[0m\u001b[0m\n",
      "\u001b[0;32m~/opt/anaconda3/lib/python3.8/site-packages/torch/nn/modules/module.py\u001b[0m in \u001b[0;36m_call_impl\u001b[0;34m(self, *input, **kwargs)\u001b[0m\n\u001b[1;32m    887\u001b[0m             \u001b[0mresult\u001b[0m \u001b[0;34m=\u001b[0m \u001b[0mself\u001b[0m\u001b[0;34m.\u001b[0m\u001b[0m_slow_forward\u001b[0m\u001b[0;34m(\u001b[0m\u001b[0;34m*\u001b[0m\u001b[0minput\u001b[0m\u001b[0;34m,\u001b[0m \u001b[0;34m**\u001b[0m\u001b[0mkwargs\u001b[0m\u001b[0;34m)\u001b[0m\u001b[0;34m\u001b[0m\u001b[0;34m\u001b[0m\u001b[0m\n\u001b[1;32m    888\u001b[0m         \u001b[0;32melse\u001b[0m\u001b[0;34m:\u001b[0m\u001b[0;34m\u001b[0m\u001b[0;34m\u001b[0m\u001b[0m\n\u001b[0;32m--> 889\u001b[0;31m             \u001b[0mresult\u001b[0m \u001b[0;34m=\u001b[0m \u001b[0mself\u001b[0m\u001b[0;34m.\u001b[0m\u001b[0mforward\u001b[0m\u001b[0;34m(\u001b[0m\u001b[0;34m*\u001b[0m\u001b[0minput\u001b[0m\u001b[0;34m,\u001b[0m \u001b[0;34m**\u001b[0m\u001b[0mkwargs\u001b[0m\u001b[0;34m)\u001b[0m\u001b[0;34m\u001b[0m\u001b[0;34m\u001b[0m\u001b[0m\n\u001b[0m\u001b[1;32m    890\u001b[0m         for hook in itertools.chain(\n\u001b[1;32m    891\u001b[0m                 \u001b[0m_global_forward_hooks\u001b[0m\u001b[0;34m.\u001b[0m\u001b[0mvalues\u001b[0m\u001b[0;34m(\u001b[0m\u001b[0;34m)\u001b[0m\u001b[0;34m,\u001b[0m\u001b[0;34m\u001b[0m\u001b[0;34m\u001b[0m\u001b[0m\n",
      "\u001b[0;32m<ipython-input-105-a35d7e9a0bc1>\u001b[0m in \u001b[0;36mforward\u001b[0;34m(self, x)\u001b[0m\n\u001b[1;32m     16\u001b[0m     \u001b[0;32mdef\u001b[0m \u001b[0mforward\u001b[0m\u001b[0;34m(\u001b[0m\u001b[0mself\u001b[0m\u001b[0;34m,\u001b[0m\u001b[0mx\u001b[0m\u001b[0;34m)\u001b[0m\u001b[0;34m:\u001b[0m  \u001b[0;31m# Input is a 1D tensor\u001b[0m\u001b[0;34m\u001b[0m\u001b[0;34m\u001b[0m\u001b[0m\n\u001b[1;32m     17\u001b[0m         \u001b[0mx\u001b[0m \u001b[0;34m=\u001b[0m \u001b[0mself\u001b[0m\u001b[0;34m.\u001b[0m\u001b[0mrelu\u001b[0m\u001b[0;34m(\u001b[0m\u001b[0mself\u001b[0m\u001b[0;34m.\u001b[0m\u001b[0mbn1\u001b[0m\u001b[0;34m(\u001b[0m\u001b[0mself\u001b[0m\u001b[0;34m.\u001b[0m\u001b[0mhidden1\u001b[0m\u001b[0;34m(\u001b[0m\u001b[0mx\u001b[0m\u001b[0;34m)\u001b[0m\u001b[0;34m)\u001b[0m\u001b[0;34m)\u001b[0m\u001b[0;34m\u001b[0m\u001b[0;34m\u001b[0m\u001b[0m\n\u001b[0;32m---> 18\u001b[0;31m         \u001b[0mx\u001b[0m \u001b[0;34m=\u001b[0m \u001b[0mself\u001b[0m\u001b[0;34m.\u001b[0m\u001b[0mrelu\u001b[0m\u001b[0;34m(\u001b[0m\u001b[0mself\u001b[0m\u001b[0;34m.\u001b[0m\u001b[0mbn2\u001b[0m\u001b[0;34m(\u001b[0m\u001b[0mself\u001b[0m\u001b[0;34m.\u001b[0m\u001b[0mhidden2\u001b[0m\u001b[0;34m(\u001b[0m\u001b[0mx\u001b[0m\u001b[0;34m)\u001b[0m\u001b[0;34m)\u001b[0m\u001b[0;34m)\u001b[0m\u001b[0;34m\u001b[0m\u001b[0;34m\u001b[0m\u001b[0m\n\u001b[0m\u001b[1;32m     19\u001b[0m         \u001b[0mx\u001b[0m \u001b[0;34m=\u001b[0m \u001b[0mself\u001b[0m\u001b[0;34m.\u001b[0m\u001b[0mrelu\u001b[0m\u001b[0;34m(\u001b[0m\u001b[0mself\u001b[0m\u001b[0;34m.\u001b[0m\u001b[0mbn3\u001b[0m\u001b[0;34m(\u001b[0m\u001b[0mself\u001b[0m\u001b[0;34m.\u001b[0m\u001b[0mhidden3\u001b[0m\u001b[0;34m(\u001b[0m\u001b[0mx\u001b[0m\u001b[0;34m)\u001b[0m\u001b[0;34m)\u001b[0m\u001b[0;34m)\u001b[0m\u001b[0;34m\u001b[0m\u001b[0;34m\u001b[0m\u001b[0m\n\u001b[1;32m     20\u001b[0m         \u001b[0mx\u001b[0m \u001b[0;34m=\u001b[0m \u001b[0mself\u001b[0m\u001b[0;34m.\u001b[0m\u001b[0moutput\u001b[0m\u001b[0;34m(\u001b[0m\u001b[0mself\u001b[0m\u001b[0;34m.\u001b[0m\u001b[0mrelu\u001b[0m\u001b[0;34m(\u001b[0m\u001b[0mx\u001b[0m\u001b[0;34m)\u001b[0m\u001b[0;34m)\u001b[0m\u001b[0;34m\u001b[0m\u001b[0;34m\u001b[0m\u001b[0m\n",
      "\u001b[0;32m~/opt/anaconda3/lib/python3.8/site-packages/torch/nn/modules/module.py\u001b[0m in \u001b[0;36m_call_impl\u001b[0;34m(self, *input, **kwargs)\u001b[0m\n\u001b[1;32m    887\u001b[0m             \u001b[0mresult\u001b[0m \u001b[0;34m=\u001b[0m \u001b[0mself\u001b[0m\u001b[0;34m.\u001b[0m\u001b[0m_slow_forward\u001b[0m\u001b[0;34m(\u001b[0m\u001b[0;34m*\u001b[0m\u001b[0minput\u001b[0m\u001b[0;34m,\u001b[0m \u001b[0;34m**\u001b[0m\u001b[0mkwargs\u001b[0m\u001b[0;34m)\u001b[0m\u001b[0;34m\u001b[0m\u001b[0;34m\u001b[0m\u001b[0m\n\u001b[1;32m    888\u001b[0m         \u001b[0;32melse\u001b[0m\u001b[0;34m:\u001b[0m\u001b[0;34m\u001b[0m\u001b[0;34m\u001b[0m\u001b[0m\n\u001b[0;32m--> 889\u001b[0;31m             \u001b[0mresult\u001b[0m \u001b[0;34m=\u001b[0m \u001b[0mself\u001b[0m\u001b[0;34m.\u001b[0m\u001b[0mforward\u001b[0m\u001b[0;34m(\u001b[0m\u001b[0;34m*\u001b[0m\u001b[0minput\u001b[0m\u001b[0;34m,\u001b[0m \u001b[0;34m**\u001b[0m\u001b[0mkwargs\u001b[0m\u001b[0;34m)\u001b[0m\u001b[0;34m\u001b[0m\u001b[0;34m\u001b[0m\u001b[0m\n\u001b[0m\u001b[1;32m    890\u001b[0m         for hook in itertools.chain(\n\u001b[1;32m    891\u001b[0m                 \u001b[0m_global_forward_hooks\u001b[0m\u001b[0;34m.\u001b[0m\u001b[0mvalues\u001b[0m\u001b[0;34m(\u001b[0m\u001b[0;34m)\u001b[0m\u001b[0;34m,\u001b[0m\u001b[0;34m\u001b[0m\u001b[0;34m\u001b[0m\u001b[0m\n",
      "\u001b[0;32m~/opt/anaconda3/lib/python3.8/site-packages/torch/nn/modules/linear.py\u001b[0m in \u001b[0;36mforward\u001b[0;34m(self, input)\u001b[0m\n\u001b[1;32m     92\u001b[0m \u001b[0;34m\u001b[0m\u001b[0m\n\u001b[1;32m     93\u001b[0m     \u001b[0;32mdef\u001b[0m \u001b[0mforward\u001b[0m\u001b[0;34m(\u001b[0m\u001b[0mself\u001b[0m\u001b[0;34m,\u001b[0m \u001b[0minput\u001b[0m\u001b[0;34m:\u001b[0m \u001b[0mTensor\u001b[0m\u001b[0;34m)\u001b[0m \u001b[0;34m->\u001b[0m \u001b[0mTensor\u001b[0m\u001b[0;34m:\u001b[0m\u001b[0;34m\u001b[0m\u001b[0;34m\u001b[0m\u001b[0m\n\u001b[0;32m---> 94\u001b[0;31m         \u001b[0;32mreturn\u001b[0m \u001b[0mF\u001b[0m\u001b[0;34m.\u001b[0m\u001b[0mlinear\u001b[0m\u001b[0;34m(\u001b[0m\u001b[0minput\u001b[0m\u001b[0;34m,\u001b[0m \u001b[0mself\u001b[0m\u001b[0;34m.\u001b[0m\u001b[0mweight\u001b[0m\u001b[0;34m,\u001b[0m \u001b[0mself\u001b[0m\u001b[0;34m.\u001b[0m\u001b[0mbias\u001b[0m\u001b[0;34m)\u001b[0m\u001b[0;34m\u001b[0m\u001b[0;34m\u001b[0m\u001b[0m\n\u001b[0m\u001b[1;32m     95\u001b[0m \u001b[0;34m\u001b[0m\u001b[0m\n\u001b[1;32m     96\u001b[0m     \u001b[0;32mdef\u001b[0m \u001b[0mextra_repr\u001b[0m\u001b[0;34m(\u001b[0m\u001b[0mself\u001b[0m\u001b[0;34m)\u001b[0m \u001b[0;34m->\u001b[0m \u001b[0mstr\u001b[0m\u001b[0;34m:\u001b[0m\u001b[0;34m\u001b[0m\u001b[0;34m\u001b[0m\u001b[0m\n",
      "\u001b[0;32m~/opt/anaconda3/lib/python3.8/site-packages/torch/nn/functional.py\u001b[0m in \u001b[0;36mlinear\u001b[0;34m(input, weight, bias)\u001b[0m\n\u001b[1;32m   1751\u001b[0m     \u001b[0;32mif\u001b[0m \u001b[0mhas_torch_function_variadic\u001b[0m\u001b[0;34m(\u001b[0m\u001b[0minput\u001b[0m\u001b[0;34m,\u001b[0m \u001b[0mweight\u001b[0m\u001b[0;34m)\u001b[0m\u001b[0;34m:\u001b[0m\u001b[0;34m\u001b[0m\u001b[0;34m\u001b[0m\u001b[0m\n\u001b[1;32m   1752\u001b[0m         \u001b[0;32mreturn\u001b[0m \u001b[0mhandle_torch_function\u001b[0m\u001b[0;34m(\u001b[0m\u001b[0mlinear\u001b[0m\u001b[0;34m,\u001b[0m \u001b[0;34m(\u001b[0m\u001b[0minput\u001b[0m\u001b[0;34m,\u001b[0m \u001b[0mweight\u001b[0m\u001b[0;34m)\u001b[0m\u001b[0;34m,\u001b[0m \u001b[0minput\u001b[0m\u001b[0;34m,\u001b[0m \u001b[0mweight\u001b[0m\u001b[0;34m,\u001b[0m \u001b[0mbias\u001b[0m\u001b[0;34m=\u001b[0m\u001b[0mbias\u001b[0m\u001b[0;34m)\u001b[0m\u001b[0;34m\u001b[0m\u001b[0;34m\u001b[0m\u001b[0m\n\u001b[0;32m-> 1753\u001b[0;31m     \u001b[0;32mreturn\u001b[0m \u001b[0mtorch\u001b[0m\u001b[0;34m.\u001b[0m\u001b[0m_C\u001b[0m\u001b[0;34m.\u001b[0m\u001b[0m_nn\u001b[0m\u001b[0;34m.\u001b[0m\u001b[0mlinear\u001b[0m\u001b[0;34m(\u001b[0m\u001b[0minput\u001b[0m\u001b[0;34m,\u001b[0m \u001b[0mweight\u001b[0m\u001b[0;34m,\u001b[0m \u001b[0mbias\u001b[0m\u001b[0;34m)\u001b[0m\u001b[0;34m\u001b[0m\u001b[0;34m\u001b[0m\u001b[0m\n\u001b[0m\u001b[1;32m   1754\u001b[0m \u001b[0;34m\u001b[0m\u001b[0m\n\u001b[1;32m   1755\u001b[0m \u001b[0;34m\u001b[0m\u001b[0m\n",
      "\u001b[0;31mKeyboardInterrupt\u001b[0m: "
     ]
    }
   ],
   "source": [
    "input_size= number_of_col-1\n",
    "output_size=1\n",
    "model = Net5(input_size, 1)\n",
    "epochs=40\n",
    "criterion = torch.nn.MSELoss()\n",
    "optimizer = torch.optim.Adam(model.parameters(), lr=0.001)\n",
    "\n",
    "# Train model 8 Decrease but slow than network1 (Based on network , add batch normalization+dropout)\n",
    "training_loss=[]\n",
    "validation_loss=[]\n",
    "\n",
    "for epoch in range(epochs):\n",
    "    print(epoch,len(train_dataloader))\n",
    "    running_loss = 0\n",
    "    model.train()\n",
    "    \n",
    "    for x, label in train_dataloader:\n",
    "        optimizer.zero_grad()\n",
    "        y=model(x.float())\n",
    "        loss=criterion(y,label.float().reshape(-1,1))\n",
    "        running_loss += loss.item()\n",
    "        # print(running_loss)\n",
    "        # accuracy=calculate_accuracy(y,label.float().reshape(-1,1))\n",
    "        # running_accuracy += accuracy.item()\n",
    "\n",
    "        loss.backward()\n",
    "        optimizer.step()\n",
    "\n",
    "    # Validate on validation dataset\n",
    "    model.eval() \n",
    "    running_loss_val=0\n",
    "    for x_val,label_val in valid_dataloader:\n",
    "        y_val=model(x_val.float())\n",
    "        loss_val=criterion(y_val,label_val.float().reshape(-1,1))\n",
    "        running_loss_val += loss_val.item()\n",
    "\n",
    "    # Store loss in the list to plot learning curves\n",
    "    training_loss.append(running_loss/len(train_dataloader))\n",
    "    validation_loss.append(running_loss_val/len(valid_dataloader))\n",
    "\n",
    "    # Print evolution of loss every epoch\n",
    "    print(\"epoch {}/{}\\t traing loss : {}\\t validation loss: {}\".format(epoch+1,epochs,running_loss/len(train_dataloader),running_loss_val/len(valid_dataloader)))\n"
   ]
  },
  {
   "cell_type": "markdown",
   "metadata": {},
   "source": [
    "# Model Train Net6 :  Compare last actvation fun : Sigmoid , dropout 0.25\n",
    "\n",
    "## Good Result : \n",
    "Good; No Oscillation ; Slow ; Decrease from 0.77; \n",
    "## Model name :  \n",
    "Net6\n",
    "## Model Parameter : \n",
    "\n",
    "- Number of hidden layers : 3\n",
    "- Each layers : 2048,512,128\n",
    "- Loass : MSE\n",
    "- Optimizer : Adam \n",
    "- Dropout : Yes 0.25\n",
    "- Last Activation :nn.Sigmoid()\n",
    "- Batch Normalization : Yes\n",
    "- Structure : \n",
    "                  nn.Linear(input,2048),\n",
    "                  nn.BatchNorm1d(2048)\n",
    "                  nn.Dropout(0.25),\n",
    "                  nn.ReLU(),   \n",
    "                  nn.Linear(2048,512),\n",
    "                  nn.BatchNorm1d(512)\n",
    "                  nn.Dropout(0.25),\n",
    "                  nn.ReLU(),\n",
    "                  nn.Linear(512,128),\n",
    "                  nn.BatchNorm1d(128),\n",
    "                  nn.Dropout(0.25),\n",
    "                  nn.ReLU(),\n",
    "                  nn.Sigmoid(),\n",
    "                 "
   ]
  },
  {
   "cell_type": "code",
   "execution_count": 93,
   "metadata": {},
   "outputs": [],
   "source": [
    "\n",
    "class Net6(nn.Module):\n",
    "    def __init__(self, input_size, output_size):\n",
    "        super().__init__()\n",
    "        self.hidden1 = nn.Linear(input_size,2048)\n",
    "        self.bn1 = nn.BatchNorm1d(2048)\n",
    "        self.dropout1 = nn.Dropout(0.25)\n",
    "        self.hidden2 = nn.Linear(2048,512)\n",
    "        self.bn2 = nn.BatchNorm1d(512)\n",
    "        self.dropout2 = nn.Dropout(0.25)\n",
    "        self.hidden3 = nn.Linear(512,128)\n",
    "        self.bn3 = nn.BatchNorm1d(128)\n",
    "        self.dropout3 = nn.Dropout(0.25)\n",
    "        self.output = nn.Linear(128, output_size)\n",
    "        \n",
    "        self.relu = torch.nn.ReLU()\n",
    "        self.sigmoid = torch.nn.Sigmoid()\n",
    "\n",
    "    def forward(self,x):  # Input is a 1D tensor\n",
    "        x = self.relu(self.dropout1(self.bn1(self.hidden1(x))))\n",
    "        x = self.relu(self.dropout2(self.bn2(self.hidden2(x))))\n",
    "        x = self.relu(self.dropout3(self.bn3(self.hidden3(x))))\n",
    "        x = self.output(self.sigmoid(x))\n",
    "        return x"
   ]
  },
  {
   "cell_type": "code",
   "execution_count": 97,
   "metadata": {},
   "outputs": [],
   "source": [
    "input_size= number_of_col-1\n",
    "output_size=1\n",
    "model = Net6(input_size, 1)\n",
    "epochs=40\n",
    "criterion = torch.nn.MSELoss()\n",
    "optimizer = torch.optim.Adam(model.parameters(), lr=0.001)"
   ]
  },
  {
   "cell_type": "code",
   "execution_count": 98,
   "metadata": {
    "scrolled": true
   },
   "outputs": [
    {
     "name": "stdout",
     "output_type": "stream",
     "text": [
      "0 10158\n",
      "epoch 1/40\t traing loss : 0.7718691598979448\t validation loss: 0.4396085640129212\n",
      "1 10158\n",
      "epoch 2/40\t traing loss : 0.6736815789946232\t validation loss: 0.38692490285437425\n",
      "2 10158\n",
      "epoch 3/40\t traing loss : 0.6206768536002751\t validation loss: 0.3965159830375874\n",
      "3 10158\n",
      "epoch 4/40\t traing loss : 0.5776777088887007\t validation loss: 0.3353800841979932\n",
      "4 10158\n",
      "epoch 5/40\t traing loss : 0.5503472220268596\t validation loss: 0.2949366531227181\n",
      "5 10158\n",
      "epoch 6/40\t traing loss : 0.5224788878794928\t validation loss: 0.30007643687602387\n",
      "6 10158\n",
      "epoch 7/40\t traing loss : 0.5082947287927783\t validation loss: 0.2856350668783091\n",
      "7 10158\n",
      "epoch 8/40\t traing loss : 0.49351099263204407\t validation loss: 0.300995232804609\n",
      "8 10158\n",
      "epoch 9/40\t traing loss : 0.47908333203028086\t validation loss: 0.27709740262465293\n",
      "9 10158\n",
      "epoch 10/40\t traing loss : 0.46761063566904676\t validation loss: 0.28473647887883086\n",
      "10 10158\n",
      "epoch 11/40\t traing loss : 0.45566203872973754\t validation loss: 0.25012427940299764\n",
      "11 10158\n",
      "epoch 12/40\t traing loss : 0.45250132052796704\t validation loss: 0.2507610199137664\n",
      "12 10158\n",
      "epoch 13/40\t traing loss : 0.44154279948998437\t validation loss: 0.2691394903449594\n",
      "13 10158\n",
      "epoch 14/40\t traing loss : 0.43173833454498245\t validation loss: 0.21692681534898195\n",
      "14 10158\n"
     ]
    },
    {
     "ename": "KeyboardInterrupt",
     "evalue": "",
     "output_type": "error",
     "traceback": [
      "\u001b[0;31m---------------------------------------------------------------------------\u001b[0m",
      "\u001b[0;31mKeyboardInterrupt\u001b[0m                         Traceback (most recent call last)",
      "\u001b[0;32m<ipython-input-98-272196ac1572>\u001b[0m in \u001b[0;36m<module>\u001b[0;34m\u001b[0m\n\u001b[1;32m     17\u001b[0m         \u001b[0;31m# running_accuracy += accuracy.item()\u001b[0m\u001b[0;34m\u001b[0m\u001b[0;34m\u001b[0m\u001b[0;34m\u001b[0m\u001b[0m\n\u001b[1;32m     18\u001b[0m \u001b[0;34m\u001b[0m\u001b[0m\n\u001b[0;32m---> 19\u001b[0;31m         \u001b[0mloss\u001b[0m\u001b[0;34m.\u001b[0m\u001b[0mbackward\u001b[0m\u001b[0;34m(\u001b[0m\u001b[0;34m)\u001b[0m\u001b[0;34m\u001b[0m\u001b[0;34m\u001b[0m\u001b[0m\n\u001b[0m\u001b[1;32m     20\u001b[0m         \u001b[0moptimizer\u001b[0m\u001b[0;34m.\u001b[0m\u001b[0mstep\u001b[0m\u001b[0;34m(\u001b[0m\u001b[0;34m)\u001b[0m\u001b[0;34m\u001b[0m\u001b[0;34m\u001b[0m\u001b[0m\n\u001b[1;32m     21\u001b[0m \u001b[0;34m\u001b[0m\u001b[0m\n",
      "\u001b[0;32m~/opt/anaconda3/lib/python3.8/site-packages/torch/tensor.py\u001b[0m in \u001b[0;36mbackward\u001b[0;34m(self, gradient, retain_graph, create_graph, inputs)\u001b[0m\n\u001b[1;32m    243\u001b[0m                 \u001b[0mcreate_graph\u001b[0m\u001b[0;34m=\u001b[0m\u001b[0mcreate_graph\u001b[0m\u001b[0;34m,\u001b[0m\u001b[0;34m\u001b[0m\u001b[0;34m\u001b[0m\u001b[0m\n\u001b[1;32m    244\u001b[0m                 inputs=inputs)\n\u001b[0;32m--> 245\u001b[0;31m         \u001b[0mtorch\u001b[0m\u001b[0;34m.\u001b[0m\u001b[0mautograd\u001b[0m\u001b[0;34m.\u001b[0m\u001b[0mbackward\u001b[0m\u001b[0;34m(\u001b[0m\u001b[0mself\u001b[0m\u001b[0;34m,\u001b[0m \u001b[0mgradient\u001b[0m\u001b[0;34m,\u001b[0m \u001b[0mretain_graph\u001b[0m\u001b[0;34m,\u001b[0m \u001b[0mcreate_graph\u001b[0m\u001b[0;34m,\u001b[0m \u001b[0minputs\u001b[0m\u001b[0;34m=\u001b[0m\u001b[0minputs\u001b[0m\u001b[0;34m)\u001b[0m\u001b[0;34m\u001b[0m\u001b[0;34m\u001b[0m\u001b[0m\n\u001b[0m\u001b[1;32m    246\u001b[0m \u001b[0;34m\u001b[0m\u001b[0m\n\u001b[1;32m    247\u001b[0m     \u001b[0;32mdef\u001b[0m \u001b[0mregister_hook\u001b[0m\u001b[0;34m(\u001b[0m\u001b[0mself\u001b[0m\u001b[0;34m,\u001b[0m \u001b[0mhook\u001b[0m\u001b[0;34m)\u001b[0m\u001b[0;34m:\u001b[0m\u001b[0;34m\u001b[0m\u001b[0;34m\u001b[0m\u001b[0m\n",
      "\u001b[0;32m~/opt/anaconda3/lib/python3.8/site-packages/torch/autograd/__init__.py\u001b[0m in \u001b[0;36mbackward\u001b[0;34m(tensors, grad_tensors, retain_graph, create_graph, grad_variables, inputs)\u001b[0m\n\u001b[1;32m    143\u001b[0m         \u001b[0mretain_graph\u001b[0m \u001b[0;34m=\u001b[0m \u001b[0mcreate_graph\u001b[0m\u001b[0;34m\u001b[0m\u001b[0;34m\u001b[0m\u001b[0m\n\u001b[1;32m    144\u001b[0m \u001b[0;34m\u001b[0m\u001b[0m\n\u001b[0;32m--> 145\u001b[0;31m     Variable._execution_engine.run_backward(\n\u001b[0m\u001b[1;32m    146\u001b[0m         \u001b[0mtensors\u001b[0m\u001b[0;34m,\u001b[0m \u001b[0mgrad_tensors_\u001b[0m\u001b[0;34m,\u001b[0m \u001b[0mretain_graph\u001b[0m\u001b[0;34m,\u001b[0m \u001b[0mcreate_graph\u001b[0m\u001b[0;34m,\u001b[0m \u001b[0minputs\u001b[0m\u001b[0;34m,\u001b[0m\u001b[0;34m\u001b[0m\u001b[0;34m\u001b[0m\u001b[0m\n\u001b[1;32m    147\u001b[0m         allow_unreachable=True, accumulate_grad=True)  # allow_unreachable flag\n",
      "\u001b[0;31mKeyboardInterrupt\u001b[0m: "
     ]
    }
   ],
   "source": [
    "\n",
    "training_loss=[]\n",
    "validation_loss=[]\n",
    "\n",
    "for epoch in range(epochs):\n",
    "    print(epoch,len(train_dataloader))\n",
    "    running_loss = 0\n",
    "    model.train()\n",
    "    \n",
    "    for x, label in train_dataloader:\n",
    "        optimizer.zero_grad()\n",
    "        y=model(x.float())\n",
    "        loss=criterion(y,label.float().reshape(-1,1))\n",
    "        running_loss += loss.item()\n",
    "        # print(running_loss)\n",
    "        # accuracy=calculate_accuracy(y,label.float().reshape(-1,1))\n",
    "        # running_accuracy += accuracy.item()\n",
    "\n",
    "        loss.backward()\n",
    "        optimizer.step()\n",
    "\n",
    "    # Validate on validation dataset\n",
    "    model.eval() \n",
    "    running_loss_val=0\n",
    "    for x_val,label_val in valid_dataloader:\n",
    "        y_val=model(x_val.float())\n",
    "        loss_val=criterion(y_val,label_val.float().reshape(-1,1))\n",
    "        running_loss_val += loss_val.item()\n",
    "\n",
    "    # Store loss in the list to plot learning curves\n",
    "    training_loss.append(running_loss/len(train_dataloader))\n",
    "    validation_loss.append(running_loss_val/len(valid_dataloader))\n",
    "\n",
    "    # Print evolution of loss every epoch\n",
    "    print(\"epoch {}/{}\\t traing loss : {}\\t validation loss: {}\".format(epoch+1,epochs,running_loss/len(train_dataloader),running_loss_val/len(valid_dataloader)))\n"
   ]
  },
  {
   "cell_type": "markdown",
   "metadata": {},
   "source": [
    "# Model Train Net7: \n",
    "\n",
    "## Good Result : \n",
    "Oscillation ;Fasr ; Decrease from 0.50 - 0.28 - 0.33 - 0.22 - 0.26; \n",
    "## Model name :  \n",
    "network\n",
    "## Model Parameter : \n",
    "\n",
    "- Number of hidden layers : 3\n",
    "- Each layers : 2048,512,128\n",
    "- Loass : MSE\n",
    "- Optimizer : Adam \n",
    "- Dropout : Yes 0.3 \n",
    "- Last Activation :  nn.Relu()\n",
    "- Batch Normalization : Yes\n",
    "- Structure : \n",
    "                  nn.Linear(input,2048),\n",
    "                  nn.BatchNorm1d(2048),\n",
    "                  nn.ReLU(), \n",
    "                  nn.Dropout(0.3),  \n",
    "                  nn.Linear(2048,512),\n",
    "                  nn.BatchNorm1d(512),\n",
    "                  nn.ReLU(),\n",
    "                  nn.Dropout(0.3),\n",
    "                  nn.Linear(512,128),\n",
    "                  nn.BatchNorm1d(128),\n",
    "                  nn.ReLU(),\n",
    "                  nn.Dropout(0.3),\n",
    "                 \n",
    "                  nn.ReLU(),\n",
    "                 "
   ]
  },
  {
   "cell_type": "code",
   "execution_count": 9,
   "metadata": {},
   "outputs": [],
   "source": [
    "# Train model 7  : oscilate, but fast decrease , Based on network22 ,  dropout to 0.3\n",
    "class Net7(nn.Module):\n",
    "    def __init__(self, input_size, output_size):\n",
    "        super().__init__()\n",
    "        self.hidden1 = nn.Linear(input_size,2048)\n",
    "        self.bn1 = nn.BatchNorm1d(2048)\n",
    "        self.dropout1 = nn.Dropout(0.3)\n",
    "        self.hidden2 = nn.Linear(2048,512)\n",
    "        self.bn2 = nn.BatchNorm1d(512)\n",
    "        self.dropout2 = nn.Dropout(0.3)\n",
    "        self.hidden3 = nn.Linear(512,128)\n",
    "        self.bn3 = nn.BatchNorm1d(128)\n",
    "        self.dropout3 = nn.Dropout(0.3)\n",
    "        self.output = nn.Linear(128, output_size)\n",
    "        \n",
    "        self.relu = torch.nn.ReLU()\n",
    "#         self.sigmoid = torch.nn.Sigmoid()\n",
    "\n",
    "    def forward(self,x):  # Input is a 1D tensor\n",
    "        x = self.dropout1(self.relu(self.bn1(self.hidden1(x))))\n",
    "        x = self.dropout2(self.relu(self.bn2(self.hidden2(x))))\n",
    "        x = self.dropout3(self.relu(self.bn3(self.hidden3(x))))\n",
    "        x = self.output(self.relu(x))\n",
    "        return x\n",
    "    \n",
    "def initialise_weights(self):\n",
    "    for m in self.modules():\n",
    "        if isinstance(m, (nn.Conv2d, nn.ConvTranspose2d, nn.Linear)):\n",
    "            nn.init.kaiming_uniform_(m.weight, mode='fan_in', nonlinearity='relu')"
   ]
  },
  {
   "cell_type": "code",
   "execution_count": 35,
   "metadata": {},
   "outputs": [],
   "source": [
    "def train_model(model, train_dataloader, valid_dataloader): \n",
    "    since = time.time() \n",
    "    best_model_wts = copy.deepcopy(model.state_dict()) \n",
    "    epochs= 40\n",
    "    criterion = torch.nn.MSELoss()\n",
    "    optimizer = torch.optim.Adam(model.parameters(), lr=0.001)\n",
    "    lowest_loss = 1.0\n",
    "    training_loss=[]\n",
    "    validation_loss=[]\n",
    "    \n",
    "     \n",
    "    for epoch in range(epochs): \n",
    "        running_loss_val=0\n",
    "        running_loss = 0.0\n",
    "        # Each epoch has a training and validation phase \n",
    "        for phase in ['train', 'test']: \n",
    "            if phase == 'train': \n",
    "                model.train()  # Set model to training mode \n",
    "                \n",
    "                for x, label in tqdm(train_dataloader):\n",
    "                    x = x.to(device)\n",
    "                    label = label.to(device)\n",
    "                    optimizer.zero_grad()\n",
    "                    y=model(x.float())\n",
    "#                     loss = mean_squared_log_error(y.cpu().detach().numpy().reshape(-1, 1), label.cpu().detach().numpy().reshape(-1, 1))\n",
    "                    loss=criterion(y,label.float().reshape(-1,1))\n",
    "                    running_loss += loss.item()\n",
    "\n",
    "                    loss.backward()\n",
    "                    optimizer.step()\n",
    "            else: \n",
    "                model.eval()   # Set model to evaluate mode \n",
    "                \n",
    "                for x_val,label_val in tqdm(valid_dataloader):\n",
    "                    x_val = x_val.to(device)\n",
    "                    label_val = label_val.to(device)\n",
    "                    y_val=model(x_val.float())\n",
    "                    label_val = label_val.to(device)\n",
    "#                     loss_val=criterion(y_val,label_val.float().reshape(-1,1))\n",
    "#                     loss_val = mean_squared_log_error(y_val.cpu().detach().numpy().reshape(-1, 1), label_val.cpu().detach().numpy().reshape(-1, 1))\n",
    "                    loss_val=criterion(y_val,label_val.float().reshape(-1,1))\n",
    "                    running_loss_val += loss_val.item()\n",
    " \n",
    "            # deep copy the model \n",
    "            if phase == 'test' and running_loss_val < lowest_loss: \n",
    "                lowest_loss = running_loss_val\n",
    "                best_model_wts = copy.deepcopy(model.state_dict()) \n",
    "            if phase == 'train': \n",
    "                # save model  \n",
    "                torch.save(model.state_dict(), PATH) \n",
    "        \n",
    "        # Store loss in the list to plot learning curves\n",
    "        training_loss.append(running_loss/len(train_dataloader))\n",
    "        validation_loss.append(running_loss_val/len(valid_dataloader))\n",
    "        print(\"epoch {}/{}\\t traing loss : {}\\t validation loss: {}\".format(epoch+1,epochs,running_loss/len(train_dataloader),running_loss_val/len(valid_dataloader)))\n",
    "         \n",
    "    time_elapsed = time.time() - since \n",
    "    print('Training complete in {:.0f}m {:.0f}s'.format(time_elapsed // 60, time_elapsed % 60)) \n",
    "\n",
    "     \n",
    "    # load best model weights \n",
    "    model.load_state_dict(best_model_wts) \n",
    "     \n",
    "    return training_loss, validation_loss"
   ]
  },
  {
   "cell_type": "code",
   "execution_count": 37,
   "metadata": {
    "scrolled": true
   },
   "outputs": [
    {
     "data": {
      "application/vnd.jupyter.widget-view+json": {
       "model_id": "342a2f106ef74c158d65d882ab1ef5b5",
       "version_major": 2,
       "version_minor": 0
      },
      "text/plain": [
       "HBox(children=(FloatProgress(value=0.0, max=10158.0), HTML(value='')))"
      ]
     },
     "metadata": {},
     "output_type": "display_data"
    },
    {
     "name": "stdout",
     "output_type": "stream",
     "text": [
      "\n"
     ]
    },
    {
     "data": {
      "application/vnd.jupyter.widget-view+json": {
       "model_id": "a3f4abd81eeb403e9fcab55b0a2596ec",
       "version_major": 2,
       "version_minor": 0
      },
      "text/plain": [
       "HBox(children=(FloatProgress(value=0.0, max=2540.0), HTML(value='')))"
      ]
     },
     "metadata": {},
     "output_type": "display_data"
    },
    {
     "name": "stdout",
     "output_type": "stream",
     "text": [
      "\n",
      "epoch 1/40\t traing loss : 0.5314232903304231\t validation loss: 0.6566430671582838\n"
     ]
    },
    {
     "data": {
      "application/vnd.jupyter.widget-view+json": {
       "model_id": "d1891f1f494b46b5bdd309b0e9076476",
       "version_major": 2,
       "version_minor": 0
      },
      "text/plain": [
       "HBox(children=(FloatProgress(value=0.0, max=10158.0), HTML(value='')))"
      ]
     },
     "metadata": {},
     "output_type": "display_data"
    },
    {
     "name": "stdout",
     "output_type": "stream",
     "text": [
      "\n"
     ]
    },
    {
     "data": {
      "application/vnd.jupyter.widget-view+json": {
       "model_id": "875edcc7e3ba425c83cfd064888566f0",
       "version_major": 2,
       "version_minor": 0
      },
      "text/plain": [
       "HBox(children=(FloatProgress(value=0.0, max=2540.0), HTML(value='')))"
      ]
     },
     "metadata": {},
     "output_type": "display_data"
    },
    {
     "name": "stdout",
     "output_type": "stream",
     "text": [
      "\n",
      "epoch 2/40\t traing loss : 0.4187367519694487\t validation loss: 0.41823763617004567\n"
     ]
    },
    {
     "data": {
      "application/vnd.jupyter.widget-view+json": {
       "model_id": "6d0fc327423c43239d9b241cf908f181",
       "version_major": 2,
       "version_minor": 0
      },
      "text/plain": [
       "HBox(children=(FloatProgress(value=0.0, max=10158.0), HTML(value='')))"
      ]
     },
     "metadata": {},
     "output_type": "display_data"
    },
    {
     "name": "stdout",
     "output_type": "stream",
     "text": [
      "\n"
     ]
    },
    {
     "data": {
      "application/vnd.jupyter.widget-view+json": {
       "model_id": "89acfe62ffcb4c24a9d73863e336a738",
       "version_major": 2,
       "version_minor": 0
      },
      "text/plain": [
       "HBox(children=(FloatProgress(value=0.0, max=2540.0), HTML(value='')))"
      ]
     },
     "metadata": {},
     "output_type": "display_data"
    },
    {
     "name": "stdout",
     "output_type": "stream",
     "text": [
      "\n",
      "epoch 3/40\t traing loss : 0.34444046965854547\t validation loss: 0.26205027928421415\n"
     ]
    },
    {
     "data": {
      "application/vnd.jupyter.widget-view+json": {
       "model_id": "fbfb225e8d5945a5a5d45688977673b8",
       "version_major": 2,
       "version_minor": 0
      },
      "text/plain": [
       "HBox(children=(FloatProgress(value=0.0, max=10158.0), HTML(value='')))"
      ]
     },
     "metadata": {},
     "output_type": "display_data"
    },
    {
     "name": "stdout",
     "output_type": "stream",
     "text": [
      "\n"
     ]
    },
    {
     "data": {
      "application/vnd.jupyter.widget-view+json": {
       "model_id": "749996cb53014b949ea38917d49c943e",
       "version_major": 2,
       "version_minor": 0
      },
      "text/plain": [
       "HBox(children=(FloatProgress(value=0.0, max=2540.0), HTML(value='')))"
      ]
     },
     "metadata": {},
     "output_type": "display_data"
    },
    {
     "name": "stdout",
     "output_type": "stream",
     "text": [
      "\n",
      "epoch 4/40\t traing loss : 0.3432885267951297\t validation loss: 0.22888336362602285\n"
     ]
    },
    {
     "data": {
      "application/vnd.jupyter.widget-view+json": {
       "model_id": "e2f1e79900e248428f8ea93c5244a1fb",
       "version_major": 2,
       "version_minor": 0
      },
      "text/plain": [
       "HBox(children=(FloatProgress(value=0.0, max=10158.0), HTML(value='')))"
      ]
     },
     "metadata": {},
     "output_type": "display_data"
    },
    {
     "name": "stdout",
     "output_type": "stream",
     "text": [
      "\n"
     ]
    },
    {
     "data": {
      "application/vnd.jupyter.widget-view+json": {
       "model_id": "7ec9cb94813c4060b29fbd06aae35875",
       "version_major": 2,
       "version_minor": 0
      },
      "text/plain": [
       "HBox(children=(FloatProgress(value=0.0, max=2540.0), HTML(value='')))"
      ]
     },
     "metadata": {},
     "output_type": "display_data"
    },
    {
     "name": "stdout",
     "output_type": "stream",
     "text": [
      "\n",
      "epoch 5/40\t traing loss : 0.3338779198257765\t validation loss: 0.2606406329428836\n"
     ]
    },
    {
     "data": {
      "application/vnd.jupyter.widget-view+json": {
       "model_id": "4bcf2af3af1a49ec828834c4a68acb00",
       "version_major": 2,
       "version_minor": 0
      },
      "text/plain": [
       "HBox(children=(FloatProgress(value=0.0, max=10158.0), HTML(value='')))"
      ]
     },
     "metadata": {},
     "output_type": "display_data"
    },
    {
     "name": "stdout",
     "output_type": "stream",
     "text": [
      "\n"
     ]
    },
    {
     "data": {
      "application/vnd.jupyter.widget-view+json": {
       "model_id": "c6f99c71f84e469b93b69fbbabd18bad",
       "version_major": 2,
       "version_minor": 0
      },
      "text/plain": [
       "HBox(children=(FloatProgress(value=0.0, max=2540.0), HTML(value='')))"
      ]
     },
     "metadata": {},
     "output_type": "display_data"
    },
    {
     "name": "stdout",
     "output_type": "stream",
     "text": [
      "\n",
      "epoch 6/40\t traing loss : 0.3355595997230784\t validation loss: 0.3249156148016167\n"
     ]
    },
    {
     "data": {
      "application/vnd.jupyter.widget-view+json": {
       "model_id": "6feba004917b493f80badbff11959c3c",
       "version_major": 2,
       "version_minor": 0
      },
      "text/plain": [
       "HBox(children=(FloatProgress(value=0.0, max=10158.0), HTML(value='')))"
      ]
     },
     "metadata": {},
     "output_type": "display_data"
    },
    {
     "name": "stdout",
     "output_type": "stream",
     "text": [
      "\n"
     ]
    },
    {
     "data": {
      "application/vnd.jupyter.widget-view+json": {
       "model_id": "9c3648ebec964ff3a1eabb3d452d5bfb",
       "version_major": 2,
       "version_minor": 0
      },
      "text/plain": [
       "HBox(children=(FloatProgress(value=0.0, max=2540.0), HTML(value='')))"
      ]
     },
     "metadata": {},
     "output_type": "display_data"
    },
    {
     "name": "stdout",
     "output_type": "stream",
     "text": [
      "\n",
      "epoch 7/40\t traing loss : 0.2979164354804427\t validation loss: 0.2605691870583742\n"
     ]
    },
    {
     "data": {
      "application/vnd.jupyter.widget-view+json": {
       "model_id": "3b9c236bb698447eb8d5e806cbf8e181",
       "version_major": 2,
       "version_minor": 0
      },
      "text/plain": [
       "HBox(children=(FloatProgress(value=0.0, max=10158.0), HTML(value='')))"
      ]
     },
     "metadata": {},
     "output_type": "display_data"
    },
    {
     "name": "stdout",
     "output_type": "stream",
     "text": [
      "\n"
     ]
    },
    {
     "data": {
      "application/vnd.jupyter.widget-view+json": {
       "model_id": "dd6580b5360749e9ae9a5ce31ce7ad5f",
       "version_major": 2,
       "version_minor": 0
      },
      "text/plain": [
       "HBox(children=(FloatProgress(value=0.0, max=2540.0), HTML(value='')))"
      ]
     },
     "metadata": {},
     "output_type": "display_data"
    },
    {
     "name": "stdout",
     "output_type": "stream",
     "text": [
      "\n",
      "epoch 8/40\t traing loss : 0.3037354488445018\t validation loss: 0.2754500461732657\n"
     ]
    },
    {
     "data": {
      "application/vnd.jupyter.widget-view+json": {
       "model_id": "745dba3f9f954673bcc809e5cb9ec62d",
       "version_major": 2,
       "version_minor": 0
      },
      "text/plain": [
       "HBox(children=(FloatProgress(value=0.0, max=10158.0), HTML(value='')))"
      ]
     },
     "metadata": {},
     "output_type": "display_data"
    },
    {
     "name": "stdout",
     "output_type": "stream",
     "text": [
      "\n"
     ]
    },
    {
     "data": {
      "application/vnd.jupyter.widget-view+json": {
       "model_id": "da55683ebebb4e938b7152eb067436ef",
       "version_major": 2,
       "version_minor": 0
      },
      "text/plain": [
       "HBox(children=(FloatProgress(value=0.0, max=2540.0), HTML(value='')))"
      ]
     },
     "metadata": {},
     "output_type": "display_data"
    },
    {
     "name": "stdout",
     "output_type": "stream",
     "text": [
      "\n",
      "epoch 9/40\t traing loss : 0.352952209290096\t validation loss: 0.2664006193359813\n"
     ]
    },
    {
     "data": {
      "application/vnd.jupyter.widget-view+json": {
       "model_id": "381c1a49e9f54cd591b8df05137539f8",
       "version_major": 2,
       "version_minor": 0
      },
      "text/plain": [
       "HBox(children=(FloatProgress(value=0.0, max=10158.0), HTML(value='')))"
      ]
     },
     "metadata": {},
     "output_type": "display_data"
    },
    {
     "name": "stdout",
     "output_type": "stream",
     "text": [
      "\n"
     ]
    },
    {
     "data": {
      "application/vnd.jupyter.widget-view+json": {
       "model_id": "b6531833d9fe4f42a2ad08d64c925d92",
       "version_major": 2,
       "version_minor": 0
      },
      "text/plain": [
       "HBox(children=(FloatProgress(value=0.0, max=2540.0), HTML(value='')))"
      ]
     },
     "metadata": {},
     "output_type": "display_data"
    },
    {
     "name": "stdout",
     "output_type": "stream",
     "text": [
      "\n",
      "epoch 10/40\t traing loss : 0.3023080698857609\t validation loss: 0.24620132010437432\n"
     ]
    },
    {
     "data": {
      "application/vnd.jupyter.widget-view+json": {
       "model_id": "e9660563932b4c02b974188e8a895dd7",
       "version_major": 2,
       "version_minor": 0
      },
      "text/plain": [
       "HBox(children=(FloatProgress(value=0.0, max=10158.0), HTML(value='')))"
      ]
     },
     "metadata": {},
     "output_type": "display_data"
    },
    {
     "name": "stdout",
     "output_type": "stream",
     "text": [
      "\n"
     ]
    },
    {
     "data": {
      "application/vnd.jupyter.widget-view+json": {
       "model_id": "91bdca65ddf346de8ef901d5dc9f81b9",
       "version_major": 2,
       "version_minor": 0
      },
      "text/plain": [
       "HBox(children=(FloatProgress(value=0.0, max=2540.0), HTML(value='')))"
      ]
     },
     "metadata": {},
     "output_type": "display_data"
    },
    {
     "name": "stdout",
     "output_type": "stream",
     "text": [
      "\n",
      "epoch 11/40\t traing loss : 0.3018506055870485\t validation loss: 0.23024513508387068\n"
     ]
    },
    {
     "data": {
      "application/vnd.jupyter.widget-view+json": {
       "model_id": "54e1001f6b784f828c20e85de3db4957",
       "version_major": 2,
       "version_minor": 0
      },
      "text/plain": [
       "HBox(children=(FloatProgress(value=0.0, max=10158.0), HTML(value='')))"
      ]
     },
     "metadata": {},
     "output_type": "display_data"
    },
    {
     "name": "stdout",
     "output_type": "stream",
     "text": [
      "\n"
     ]
    },
    {
     "data": {
      "application/vnd.jupyter.widget-view+json": {
       "model_id": "9ab4db89540d46c4abb1f9d6b2dddd83",
       "version_major": 2,
       "version_minor": 0
      },
      "text/plain": [
       "HBox(children=(FloatProgress(value=0.0, max=2540.0), HTML(value='')))"
      ]
     },
     "metadata": {},
     "output_type": "display_data"
    },
    {
     "name": "stdout",
     "output_type": "stream",
     "text": [
      "\n",
      "epoch 12/40\t traing loss : 0.30947637015943896\t validation loss: 0.23348317290961057\n"
     ]
    },
    {
     "data": {
      "application/vnd.jupyter.widget-view+json": {
       "model_id": "965303745489488ba3d9448b29fa5482",
       "version_major": 2,
       "version_minor": 0
      },
      "text/plain": [
       "HBox(children=(FloatProgress(value=0.0, max=10158.0), HTML(value='')))"
      ]
     },
     "metadata": {},
     "output_type": "display_data"
    },
    {
     "name": "stdout",
     "output_type": "stream",
     "text": [
      "\n"
     ]
    },
    {
     "data": {
      "application/vnd.jupyter.widget-view+json": {
       "model_id": "de2ecc494d1547299800df2b2470bd1b",
       "version_major": 2,
       "version_minor": 0
      },
      "text/plain": [
       "HBox(children=(FloatProgress(value=0.0, max=2540.0), HTML(value='')))"
      ]
     },
     "metadata": {},
     "output_type": "display_data"
    },
    {
     "name": "stdout",
     "output_type": "stream",
     "text": [
      "\n",
      "epoch 13/40\t traing loss : 0.29852608118563395\t validation loss: 0.24755691147554212\n"
     ]
    },
    {
     "data": {
      "application/vnd.jupyter.widget-view+json": {
       "model_id": "8c331e78406748509446b3eec29693a6",
       "version_major": 2,
       "version_minor": 0
      },
      "text/plain": [
       "HBox(children=(FloatProgress(value=0.0, max=10158.0), HTML(value='')))"
      ]
     },
     "metadata": {},
     "output_type": "display_data"
    },
    {
     "name": "stdout",
     "output_type": "stream",
     "text": [
      "\n"
     ]
    },
    {
     "data": {
      "application/vnd.jupyter.widget-view+json": {
       "model_id": "559eb72e2c2c4ac4827c27a8d1d8b69a",
       "version_major": 2,
       "version_minor": 0
      },
      "text/plain": [
       "HBox(children=(FloatProgress(value=0.0, max=2540.0), HTML(value='')))"
      ]
     },
     "metadata": {},
     "output_type": "display_data"
    },
    {
     "name": "stdout",
     "output_type": "stream",
     "text": [
      "\n",
      "epoch 14/40\t traing loss : 0.2777178243127203\t validation loss: 0.26649421077349045\n"
     ]
    },
    {
     "data": {
      "application/vnd.jupyter.widget-view+json": {
       "model_id": "70b22d2d55f442e2901311a11c496095",
       "version_major": 2,
       "version_minor": 0
      },
      "text/plain": [
       "HBox(children=(FloatProgress(value=0.0, max=10158.0), HTML(value='')))"
      ]
     },
     "metadata": {},
     "output_type": "display_data"
    },
    {
     "name": "stdout",
     "output_type": "stream",
     "text": [
      "\n"
     ]
    },
    {
     "data": {
      "application/vnd.jupyter.widget-view+json": {
       "model_id": "51ed006ef9c041a8a194bf0e9a9f88a1",
       "version_major": 2,
       "version_minor": 0
      },
      "text/plain": [
       "HBox(children=(FloatProgress(value=0.0, max=2540.0), HTML(value='')))"
      ]
     },
     "metadata": {},
     "output_type": "display_data"
    },
    {
     "name": "stdout",
     "output_type": "stream",
     "text": [
      "\n",
      "epoch 15/40\t traing loss : 0.30771686001127024\t validation loss: 0.24503912373764924\n"
     ]
    },
    {
     "data": {
      "application/vnd.jupyter.widget-view+json": {
       "model_id": "56aadce215264f54a1620b35a99e87c9",
       "version_major": 2,
       "version_minor": 0
      },
      "text/plain": [
       "HBox(children=(FloatProgress(value=0.0, max=10158.0), HTML(value='')))"
      ]
     },
     "metadata": {},
     "output_type": "display_data"
    },
    {
     "name": "stdout",
     "output_type": "stream",
     "text": [
      "\n"
     ]
    },
    {
     "data": {
      "application/vnd.jupyter.widget-view+json": {
       "model_id": "1f2fbe5fa6df48b89b2037b4756e6912",
       "version_major": 2,
       "version_minor": 0
      },
      "text/plain": [
       "HBox(children=(FloatProgress(value=0.0, max=2540.0), HTML(value='')))"
      ]
     },
     "metadata": {},
     "output_type": "display_data"
    },
    {
     "name": "stdout",
     "output_type": "stream",
     "text": [
      "\n",
      "epoch 16/40\t traing loss : 0.27085109717808514\t validation loss: 0.22789478822467815\n"
     ]
    },
    {
     "data": {
      "application/vnd.jupyter.widget-view+json": {
       "model_id": "7512623fd13b40c894e599b75cf58ab2",
       "version_major": 2,
       "version_minor": 0
      },
      "text/plain": [
       "HBox(children=(FloatProgress(value=0.0, max=10158.0), HTML(value='')))"
      ]
     },
     "metadata": {},
     "output_type": "display_data"
    },
    {
     "name": "stdout",
     "output_type": "stream",
     "text": [
      "\n"
     ]
    },
    {
     "data": {
      "application/vnd.jupyter.widget-view+json": {
       "model_id": "9a318dd4b6af4dfcbfd7a64c07d334d6",
       "version_major": 2,
       "version_minor": 0
      },
      "text/plain": [
       "HBox(children=(FloatProgress(value=0.0, max=2540.0), HTML(value='')))"
      ]
     },
     "metadata": {},
     "output_type": "display_data"
    },
    {
     "name": "stdout",
     "output_type": "stream",
     "text": [
      "\n",
      "epoch 17/40\t traing loss : 0.2828188765108291\t validation loss: 0.23923798940739388\n"
     ]
    },
    {
     "data": {
      "application/vnd.jupyter.widget-view+json": {
       "model_id": "621ab4d1e9d74d449d4dc35c906bf8b5",
       "version_major": 2,
       "version_minor": 0
      },
      "text/plain": [
       "HBox(children=(FloatProgress(value=0.0, max=10158.0), HTML(value='')))"
      ]
     },
     "metadata": {},
     "output_type": "display_data"
    },
    {
     "name": "stdout",
     "output_type": "stream",
     "text": [
      "\n"
     ]
    },
    {
     "data": {
      "application/vnd.jupyter.widget-view+json": {
       "model_id": "d5b00e0f3cc64e80a7522ac388f49167",
       "version_major": 2,
       "version_minor": 0
      },
      "text/plain": [
       "HBox(children=(FloatProgress(value=0.0, max=2540.0), HTML(value='')))"
      ]
     },
     "metadata": {},
     "output_type": "display_data"
    },
    {
     "name": "stdout",
     "output_type": "stream",
     "text": [
      "\n",
      "epoch 18/40\t traing loss : 0.2911545074279239\t validation loss: 0.23460844739085415\n"
     ]
    },
    {
     "data": {
      "application/vnd.jupyter.widget-view+json": {
       "model_id": "0f5e411db4b44b4888ee3225b315ae07",
       "version_major": 2,
       "version_minor": 0
      },
      "text/plain": [
       "HBox(children=(FloatProgress(value=0.0, max=10158.0), HTML(value='')))"
      ]
     },
     "metadata": {},
     "output_type": "display_data"
    },
    {
     "name": "stdout",
     "output_type": "stream",
     "text": [
      "\n"
     ]
    },
    {
     "data": {
      "application/vnd.jupyter.widget-view+json": {
       "model_id": "cee631d2fc34468cb6c19797f579587d",
       "version_major": 2,
       "version_minor": 0
      },
      "text/plain": [
       "HBox(children=(FloatProgress(value=0.0, max=2540.0), HTML(value='')))"
      ]
     },
     "metadata": {},
     "output_type": "display_data"
    },
    {
     "name": "stdout",
     "output_type": "stream",
     "text": [
      "\n",
      "epoch 19/40\t traing loss : 0.3085072051762521\t validation loss: 0.2486047695018947\n"
     ]
    },
    {
     "data": {
      "application/vnd.jupyter.widget-view+json": {
       "model_id": "345addf5ca7247fda6a0a89ced14d381",
       "version_major": 2,
       "version_minor": 0
      },
      "text/plain": [
       "HBox(children=(FloatProgress(value=0.0, max=10158.0), HTML(value='')))"
      ]
     },
     "metadata": {},
     "output_type": "display_data"
    },
    {
     "name": "stdout",
     "output_type": "stream",
     "text": [
      "\n"
     ]
    },
    {
     "data": {
      "application/vnd.jupyter.widget-view+json": {
       "model_id": "4b76c86b281741b1853af47a63e85f80",
       "version_major": 2,
       "version_minor": 0
      },
      "text/plain": [
       "HBox(children=(FloatProgress(value=0.0, max=2540.0), HTML(value='')))"
      ]
     },
     "metadata": {},
     "output_type": "display_data"
    },
    {
     "name": "stdout",
     "output_type": "stream",
     "text": [
      "\n",
      "epoch 20/40\t traing loss : 0.295011198086222\t validation loss: 0.2848167199391219\n"
     ]
    },
    {
     "data": {
      "application/vnd.jupyter.widget-view+json": {
       "model_id": "9c422a286ce547649d60fb90f4774f92",
       "version_major": 2,
       "version_minor": 0
      },
      "text/plain": [
       "HBox(children=(FloatProgress(value=0.0, max=10158.0), HTML(value='')))"
      ]
     },
     "metadata": {},
     "output_type": "display_data"
    },
    {
     "name": "stdout",
     "output_type": "stream",
     "text": [
      "\n"
     ]
    },
    {
     "data": {
      "application/vnd.jupyter.widget-view+json": {
       "model_id": "03fa6b944e40414f974c51cead32b963",
       "version_major": 2,
       "version_minor": 0
      },
      "text/plain": [
       "HBox(children=(FloatProgress(value=0.0, max=2540.0), HTML(value='')))"
      ]
     },
     "metadata": {},
     "output_type": "display_data"
    },
    {
     "name": "stdout",
     "output_type": "stream",
     "text": [
      "\n",
      "epoch 21/40\t traing loss : 0.25724831974112256\t validation loss: 0.23971021616126514\n"
     ]
    },
    {
     "data": {
      "application/vnd.jupyter.widget-view+json": {
       "model_id": "13a8afb4e9f8446c937d672fcab61d4e",
       "version_major": 2,
       "version_minor": 0
      },
      "text/plain": [
       "HBox(children=(FloatProgress(value=0.0, max=10158.0), HTML(value='')))"
      ]
     },
     "metadata": {},
     "output_type": "display_data"
    },
    {
     "name": "stdout",
     "output_type": "stream",
     "text": [
      "\n"
     ]
    },
    {
     "data": {
      "application/vnd.jupyter.widget-view+json": {
       "model_id": "0fda72d555ef41f1bbda10bcf4313149",
       "version_major": 2,
       "version_minor": 0
      },
      "text/plain": [
       "HBox(children=(FloatProgress(value=0.0, max=2540.0), HTML(value='')))"
      ]
     },
     "metadata": {},
     "output_type": "display_data"
    },
    {
     "name": "stdout",
     "output_type": "stream",
     "text": [
      "\n",
      "epoch 22/40\t traing loss : 0.27141712745167973\t validation loss: 0.25644266113861625\n"
     ]
    },
    {
     "data": {
      "application/vnd.jupyter.widget-view+json": {
       "model_id": "dd875147d1cf4ea8948dfeaff70c28ae",
       "version_major": 2,
       "version_minor": 0
      },
      "text/plain": [
       "HBox(children=(FloatProgress(value=0.0, max=10158.0), HTML(value='')))"
      ]
     },
     "metadata": {},
     "output_type": "display_data"
    },
    {
     "name": "stdout",
     "output_type": "stream",
     "text": [
      "\n"
     ]
    },
    {
     "data": {
      "application/vnd.jupyter.widget-view+json": {
       "model_id": "47e290d4852f43d3906d167e1723d577",
       "version_major": 2,
       "version_minor": 0
      },
      "text/plain": [
       "HBox(children=(FloatProgress(value=0.0, max=2540.0), HTML(value='')))"
      ]
     },
     "metadata": {},
     "output_type": "display_data"
    },
    {
     "name": "stdout",
     "output_type": "stream",
     "text": [
      "\n",
      "epoch 23/40\t traing loss : 0.2391100098265452\t validation loss: 0.2515603433303557\n"
     ]
    },
    {
     "data": {
      "application/vnd.jupyter.widget-view+json": {
       "model_id": "1810aac41bc644cf95fbfa08f51c672b",
       "version_major": 2,
       "version_minor": 0
      },
      "text/plain": [
       "HBox(children=(FloatProgress(value=0.0, max=10158.0), HTML(value='')))"
      ]
     },
     "metadata": {},
     "output_type": "display_data"
    },
    {
     "name": "stdout",
     "output_type": "stream",
     "text": [
      "\n"
     ]
    },
    {
     "data": {
      "application/vnd.jupyter.widget-view+json": {
       "model_id": "2695dfa1cf2d4411b5dc52b22cc852b2",
       "version_major": 2,
       "version_minor": 0
      },
      "text/plain": [
       "HBox(children=(FloatProgress(value=0.0, max=2540.0), HTML(value='')))"
      ]
     },
     "metadata": {},
     "output_type": "display_data"
    },
    {
     "name": "stdout",
     "output_type": "stream",
     "text": [
      "\n",
      "epoch 24/40\t traing loss : 0.2890558187886447\t validation loss: 0.22472669970549874\n"
     ]
    },
    {
     "data": {
      "application/vnd.jupyter.widget-view+json": {
       "model_id": "9b1183e7ffcd498d80c7d45559a88ea9",
       "version_major": 2,
       "version_minor": 0
      },
      "text/plain": [
       "HBox(children=(FloatProgress(value=0.0, max=10158.0), HTML(value='')))"
      ]
     },
     "metadata": {},
     "output_type": "display_data"
    },
    {
     "name": "stdout",
     "output_type": "stream",
     "text": [
      "\n"
     ]
    },
    {
     "data": {
      "application/vnd.jupyter.widget-view+json": {
       "model_id": "7a454404236a49908d90f0a882ac802e",
       "version_major": 2,
       "version_minor": 0
      },
      "text/plain": [
       "HBox(children=(FloatProgress(value=0.0, max=2540.0), HTML(value='')))"
      ]
     },
     "metadata": {},
     "output_type": "display_data"
    },
    {
     "name": "stdout",
     "output_type": "stream",
     "text": [
      "\n",
      "epoch 25/40\t traing loss : 0.23743693917470296\t validation loss: 0.29119394719829844\n"
     ]
    },
    {
     "data": {
      "application/vnd.jupyter.widget-view+json": {
       "model_id": "3f8f5f6c3b214a2eb1e85bbd5cf7d558",
       "version_major": 2,
       "version_minor": 0
      },
      "text/plain": [
       "HBox(children=(FloatProgress(value=0.0, max=10158.0), HTML(value='')))"
      ]
     },
     "metadata": {},
     "output_type": "display_data"
    },
    {
     "name": "stdout",
     "output_type": "stream",
     "text": [
      "\n"
     ]
    },
    {
     "data": {
      "application/vnd.jupyter.widget-view+json": {
       "model_id": "24e592e431a74a16892dc97de654a414",
       "version_major": 2,
       "version_minor": 0
      },
      "text/plain": [
       "HBox(children=(FloatProgress(value=0.0, max=2540.0), HTML(value='')))"
      ]
     },
     "metadata": {},
     "output_type": "display_data"
    },
    {
     "name": "stdout",
     "output_type": "stream",
     "text": [
      "\n",
      "epoch 26/40\t traing loss : 0.24706462930282733\t validation loss: 0.2749049372880309\n"
     ]
    },
    {
     "data": {
      "application/vnd.jupyter.widget-view+json": {
       "model_id": "141a237515c94c239b3b87de9fec889b",
       "version_major": 2,
       "version_minor": 0
      },
      "text/plain": [
       "HBox(children=(FloatProgress(value=0.0, max=10158.0), HTML(value='')))"
      ]
     },
     "metadata": {},
     "output_type": "display_data"
    },
    {
     "name": "stdout",
     "output_type": "stream",
     "text": [
      "\n"
     ]
    },
    {
     "data": {
      "application/vnd.jupyter.widget-view+json": {
       "model_id": "0ee90504dd14434fb96f1cb3b817ab23",
       "version_major": 2,
       "version_minor": 0
      },
      "text/plain": [
       "HBox(children=(FloatProgress(value=0.0, max=2540.0), HTML(value='')))"
      ]
     },
     "metadata": {},
     "output_type": "display_data"
    },
    {
     "name": "stdout",
     "output_type": "stream",
     "text": [
      "\n",
      "epoch 27/40\t traing loss : 0.2251709747987104\t validation loss: 0.22167038363214367\n"
     ]
    },
    {
     "data": {
      "application/vnd.jupyter.widget-view+json": {
       "model_id": "e1cbabcee6554345a7385167db40c7f5",
       "version_major": 2,
       "version_minor": 0
      },
      "text/plain": [
       "HBox(children=(FloatProgress(value=0.0, max=10158.0), HTML(value='')))"
      ]
     },
     "metadata": {},
     "output_type": "display_data"
    },
    {
     "name": "stdout",
     "output_type": "stream",
     "text": [
      "\n"
     ]
    },
    {
     "data": {
      "application/vnd.jupyter.widget-view+json": {
       "model_id": "5010bcf1487342d1811db09ff64f3714",
       "version_major": 2,
       "version_minor": 0
      },
      "text/plain": [
       "HBox(children=(FloatProgress(value=0.0, max=2540.0), HTML(value='')))"
      ]
     },
     "metadata": {},
     "output_type": "display_data"
    },
    {
     "name": "stdout",
     "output_type": "stream",
     "text": [
      "\n",
      "epoch 28/40\t traing loss : 0.21550890355070493\t validation loss: 0.22181727507332244\n"
     ]
    },
    {
     "data": {
      "application/vnd.jupyter.widget-view+json": {
       "model_id": "6b9ed196b70c441fb1b24a1f7ea20494",
       "version_major": 2,
       "version_minor": 0
      },
      "text/plain": [
       "HBox(children=(FloatProgress(value=0.0, max=10158.0), HTML(value='')))"
      ]
     },
     "metadata": {},
     "output_type": "display_data"
    },
    {
     "name": "stdout",
     "output_type": "stream",
     "text": [
      "\n"
     ]
    },
    {
     "data": {
      "application/vnd.jupyter.widget-view+json": {
       "model_id": "2e1079c1ddf04ebc96be6f8b599cbe34",
       "version_major": 2,
       "version_minor": 0
      },
      "text/plain": [
       "HBox(children=(FloatProgress(value=0.0, max=2540.0), HTML(value='')))"
      ]
     },
     "metadata": {},
     "output_type": "display_data"
    },
    {
     "name": "stdout",
     "output_type": "stream",
     "text": [
      "\n",
      "epoch 29/40\t traing loss : 0.25625133391928684\t validation loss: 0.4533979876630107\n"
     ]
    },
    {
     "data": {
      "application/vnd.jupyter.widget-view+json": {
       "model_id": "cdd3562a5a7741d3b2513600ea3ad013",
       "version_major": 2,
       "version_minor": 0
      },
      "text/plain": [
       "HBox(children=(FloatProgress(value=0.0, max=10158.0), HTML(value='')))"
      ]
     },
     "metadata": {},
     "output_type": "display_data"
    },
    {
     "name": "stdout",
     "output_type": "stream",
     "text": [
      "\n"
     ]
    },
    {
     "data": {
      "application/vnd.jupyter.widget-view+json": {
       "model_id": "d92a2a82e87940b6bffcf75bf73d6d91",
       "version_major": 2,
       "version_minor": 0
      },
      "text/plain": [
       "HBox(children=(FloatProgress(value=0.0, max=2540.0), HTML(value='')))"
      ]
     },
     "metadata": {},
     "output_type": "display_data"
    },
    {
     "name": "stdout",
     "output_type": "stream",
     "text": [
      "\n",
      "epoch 30/40\t traing loss : 0.2275335804353025\t validation loss: 0.22167146543481325\n"
     ]
    },
    {
     "data": {
      "application/vnd.jupyter.widget-view+json": {
       "model_id": "86817a11c85940979838b8c6268f0504",
       "version_major": 2,
       "version_minor": 0
      },
      "text/plain": [
       "HBox(children=(FloatProgress(value=0.0, max=10158.0), HTML(value='')))"
      ]
     },
     "metadata": {},
     "output_type": "display_data"
    },
    {
     "name": "stdout",
     "output_type": "stream",
     "text": [
      "\n"
     ]
    },
    {
     "data": {
      "application/vnd.jupyter.widget-view+json": {
       "model_id": "b05ba1fbae7944b6b25b66760421d988",
       "version_major": 2,
       "version_minor": 0
      },
      "text/plain": [
       "HBox(children=(FloatProgress(value=0.0, max=2540.0), HTML(value='')))"
      ]
     },
     "metadata": {},
     "output_type": "display_data"
    },
    {
     "name": "stdout",
     "output_type": "stream",
     "text": [
      "\n",
      "epoch 31/40\t traing loss : 0.22489479825629147\t validation loss: 0.2350194534533208\n"
     ]
    },
    {
     "data": {
      "application/vnd.jupyter.widget-view+json": {
       "model_id": "e53ca7abb474424a81404b2b96676906",
       "version_major": 2,
       "version_minor": 0
      },
      "text/plain": [
       "HBox(children=(FloatProgress(value=0.0, max=10158.0), HTML(value='')))"
      ]
     },
     "metadata": {},
     "output_type": "display_data"
    },
    {
     "name": "stdout",
     "output_type": "stream",
     "text": [
      "\n"
     ]
    },
    {
     "data": {
      "application/vnd.jupyter.widget-view+json": {
       "model_id": "0d440c1049734024b87d45e76a314d7e",
       "version_major": 2,
       "version_minor": 0
      },
      "text/plain": [
       "HBox(children=(FloatProgress(value=0.0, max=2540.0), HTML(value='')))"
      ]
     },
     "metadata": {},
     "output_type": "display_data"
    },
    {
     "name": "stdout",
     "output_type": "stream",
     "text": [
      "\n",
      "epoch 32/40\t traing loss : 0.27094510806486555\t validation loss: 0.23274061923116027\n"
     ]
    },
    {
     "data": {
      "application/vnd.jupyter.widget-view+json": {
       "model_id": "358d0a40084a4dccb71113fb7f672299",
       "version_major": 2,
       "version_minor": 0
      },
      "text/plain": [
       "HBox(children=(FloatProgress(value=0.0, max=10158.0), HTML(value='')))"
      ]
     },
     "metadata": {},
     "output_type": "display_data"
    },
    {
     "name": "stdout",
     "output_type": "stream",
     "text": [
      "\n"
     ]
    },
    {
     "data": {
      "application/vnd.jupyter.widget-view+json": {
       "model_id": "3ce101741aa240da80737b8b62e46e94",
       "version_major": 2,
       "version_minor": 0
      },
      "text/plain": [
       "HBox(children=(FloatProgress(value=0.0, max=2540.0), HTML(value='')))"
      ]
     },
     "metadata": {},
     "output_type": "display_data"
    },
    {
     "name": "stdout",
     "output_type": "stream",
     "text": [
      "\n",
      "epoch 33/40\t traing loss : 0.20969392566525985\t validation loss: 0.24308292213467583\n"
     ]
    },
    {
     "data": {
      "application/vnd.jupyter.widget-view+json": {
       "model_id": "cc00067cc22645b691fe0ca0fe3bc280",
       "version_major": 2,
       "version_minor": 0
      },
      "text/plain": [
       "HBox(children=(FloatProgress(value=0.0, max=10158.0), HTML(value='')))"
      ]
     },
     "metadata": {},
     "output_type": "display_data"
    },
    {
     "name": "stdout",
     "output_type": "stream",
     "text": [
      "\n"
     ]
    },
    {
     "data": {
      "application/vnd.jupyter.widget-view+json": {
       "model_id": "107297cbb61845fa832693b37759f113",
       "version_major": 2,
       "version_minor": 0
      },
      "text/plain": [
       "HBox(children=(FloatProgress(value=0.0, max=2540.0), HTML(value='')))"
      ]
     },
     "metadata": {},
     "output_type": "display_data"
    },
    {
     "name": "stdout",
     "output_type": "stream",
     "text": [
      "\n",
      "epoch 34/40\t traing loss : 0.1916727830746548\t validation loss: 0.23630889539316288\n"
     ]
    },
    {
     "data": {
      "application/vnd.jupyter.widget-view+json": {
       "model_id": "354adb05a7cc47769bbf8e6a12ce894f",
       "version_major": 2,
       "version_minor": 0
      },
      "text/plain": [
       "HBox(children=(FloatProgress(value=0.0, max=10158.0), HTML(value='')))"
      ]
     },
     "metadata": {},
     "output_type": "display_data"
    },
    {
     "name": "stdout",
     "output_type": "stream",
     "text": [
      "\n"
     ]
    },
    {
     "data": {
      "application/vnd.jupyter.widget-view+json": {
       "model_id": "8ac260b99e014009a947ab4e2aa65177",
       "version_major": 2,
       "version_minor": 0
      },
      "text/plain": [
       "HBox(children=(FloatProgress(value=0.0, max=2540.0), HTML(value='')))"
      ]
     },
     "metadata": {},
     "output_type": "display_data"
    },
    {
     "name": "stdout",
     "output_type": "stream",
     "text": [
      "\n",
      "epoch 35/40\t traing loss : 0.22204410374494138\t validation loss: 0.2842170172002933\n"
     ]
    },
    {
     "data": {
      "application/vnd.jupyter.widget-view+json": {
       "model_id": "f85dccefcb6c465eb2bbb822d127fdd6",
       "version_major": 2,
       "version_minor": 0
      },
      "text/plain": [
       "HBox(children=(FloatProgress(value=0.0, max=10158.0), HTML(value='')))"
      ]
     },
     "metadata": {},
     "output_type": "display_data"
    },
    {
     "name": "stdout",
     "output_type": "stream",
     "text": [
      "\n"
     ]
    },
    {
     "data": {
      "application/vnd.jupyter.widget-view+json": {
       "model_id": "69590fe3bfcb41a8aac3e56bae12b97c",
       "version_major": 2,
       "version_minor": 0
      },
      "text/plain": [
       "HBox(children=(FloatProgress(value=0.0, max=2540.0), HTML(value='')))"
      ]
     },
     "metadata": {},
     "output_type": "display_data"
    },
    {
     "name": "stdout",
     "output_type": "stream",
     "text": [
      "\n",
      "epoch 36/40\t traing loss : 0.18745106448851498\t validation loss: 0.25115351032226907\n"
     ]
    },
    {
     "data": {
      "application/vnd.jupyter.widget-view+json": {
       "model_id": "b2963270a2c54fcdb63cec368c7edf08",
       "version_major": 2,
       "version_minor": 0
      },
      "text/plain": [
       "HBox(children=(FloatProgress(value=0.0, max=10158.0), HTML(value='')))"
      ]
     },
     "metadata": {},
     "output_type": "display_data"
    },
    {
     "name": "stdout",
     "output_type": "stream",
     "text": [
      "\n"
     ]
    },
    {
     "data": {
      "application/vnd.jupyter.widget-view+json": {
       "model_id": "8500d8a01a3a4d15a57e35d96f73f64d",
       "version_major": 2,
       "version_minor": 0
      },
      "text/plain": [
       "HBox(children=(FloatProgress(value=0.0, max=2540.0), HTML(value='')))"
      ]
     },
     "metadata": {},
     "output_type": "display_data"
    },
    {
     "name": "stdout",
     "output_type": "stream",
     "text": [
      "\n",
      "epoch 37/40\t traing loss : 0.22142437595381867\t validation loss: 0.24367544204381653\n"
     ]
    },
    {
     "data": {
      "application/vnd.jupyter.widget-view+json": {
       "model_id": "00ece07987444d2297b0051c46eca856",
       "version_major": 2,
       "version_minor": 0
      },
      "text/plain": [
       "HBox(children=(FloatProgress(value=0.0, max=10158.0), HTML(value='')))"
      ]
     },
     "metadata": {},
     "output_type": "display_data"
    },
    {
     "name": "stdout",
     "output_type": "stream",
     "text": [
      "\n"
     ]
    },
    {
     "data": {
      "application/vnd.jupyter.widget-view+json": {
       "model_id": "84cc1bb521214e86a15c6742dfe71ba4",
       "version_major": 2,
       "version_minor": 0
      },
      "text/plain": [
       "HBox(children=(FloatProgress(value=0.0, max=2540.0), HTML(value='')))"
      ]
     },
     "metadata": {},
     "output_type": "display_data"
    },
    {
     "name": "stdout",
     "output_type": "stream",
     "text": [
      "\n",
      "epoch 38/40\t traing loss : 0.2063038847560696\t validation loss: 0.24525465216734227\n"
     ]
    },
    {
     "data": {
      "application/vnd.jupyter.widget-view+json": {
       "model_id": "52bd9c41c0e74211bfca288a2ea79e42",
       "version_major": 2,
       "version_minor": 0
      },
      "text/plain": [
       "HBox(children=(FloatProgress(value=0.0, max=10158.0), HTML(value='')))"
      ]
     },
     "metadata": {},
     "output_type": "display_data"
    },
    {
     "name": "stdout",
     "output_type": "stream",
     "text": [
      "\n"
     ]
    },
    {
     "data": {
      "application/vnd.jupyter.widget-view+json": {
       "model_id": "b8b121f645d64e7ca7001725d6cdc90a",
       "version_major": 2,
       "version_minor": 0
      },
      "text/plain": [
       "HBox(children=(FloatProgress(value=0.0, max=2540.0), HTML(value='')))"
      ]
     },
     "metadata": {},
     "output_type": "display_data"
    },
    {
     "name": "stdout",
     "output_type": "stream",
     "text": [
      "\n",
      "epoch 39/40\t traing loss : 0.21253006580722783\t validation loss: 0.24073321676549986\n"
     ]
    },
    {
     "data": {
      "application/vnd.jupyter.widget-view+json": {
       "model_id": "cba01528a07748628e9e620d7537cb9b",
       "version_major": 2,
       "version_minor": 0
      },
      "text/plain": [
       "HBox(children=(FloatProgress(value=0.0, max=10158.0), HTML(value='')))"
      ]
     },
     "metadata": {},
     "output_type": "display_data"
    },
    {
     "name": "stdout",
     "output_type": "stream",
     "text": [
      "\n"
     ]
    },
    {
     "data": {
      "application/vnd.jupyter.widget-view+json": {
       "model_id": "09fa4e8533f54431983e69b6cc9beb8e",
       "version_major": 2,
       "version_minor": 0
      },
      "text/plain": [
       "HBox(children=(FloatProgress(value=0.0, max=2540.0), HTML(value='')))"
      ]
     },
     "metadata": {},
     "output_type": "display_data"
    },
    {
     "name": "stdout",
     "output_type": "stream",
     "text": [
      "\n",
      "epoch 40/40\t traing loss : 0.19612414710006315\t validation loss: 0.2277471160619725\n",
      "Training complete in 28m 37s\n"
     ]
    }
   ],
   "source": [
    "training_loss = [] \n",
    "validation_loss = []\n",
    "device = torch.device(\"cuda:0\" if torch.cuda.is_available() else \"cpu\")\n",
    "input_size= number_of_col-1\n",
    "output_size=1\n",
    "model = Net7(input_size, 1)\n",
    "model.apply(initialise_weights)\n",
    "model.to(device)\n",
    "training_loss, validation_loss = train_model(model, train_dataloader, valid_dataloader)"
   ]
  },
  {
   "cell_type": "code",
   "execution_count": 38,
   "metadata": {},
   "outputs": [
    {
     "data": {
      "image/png": "[encoded data removed]",
      "text/plain": [
       "<Figure size 432x288 with 1 Axes>"
      ]
     },
     "metadata": {
      "needs_background": "light"
     },
     "output_type": "display_data"
    }
   ],
   "source": [
    "def plot_graph(training_loss, validation_loss):\n",
    "#     plt.figtext(.5,.9,'Training/Validation losses over {} epochs'.format(epoch), fontsize=15, ha='center')\n",
    "    plt.plot(training_loss, label = \"Training Loss\")\n",
    "    plt.plot(validation_loss, label = 'Test Loss')\n",
    "    plt.xlabel('Number of Epoch', fontsize = 14)\n",
    "    plt.ylabel('Loss', fontsize = 14)\n",
    "    plt.legend()\n",
    "    \n",
    "plot_graph(training_loss, validation_loss)"
   ]
  },
  {
   "cell_type": "code",
   "execution_count": 105,
   "metadata": {},
   "outputs": [],
   "source": [
    "class RMSLELoss(nn.Module):\n",
    "    def __init__(self):\n",
    "        super().__init__()\n",
    "        self.mse = nn.MSELoss()\n",
    "        \n",
    "    def forward(self, pred, actual):\n",
    "        return torch.sqrt(self.mse(torch.log(pred + 1), torch.log(actual + 1)))"
   ]
  },
  {
   "cell_type": "code",
   "execution_count": 147,
   "metadata": {},
   "outputs": [],
   "source": [
    "load_model = True \n",
    " \n",
    "if load_model: \n",
    "    device = torch.device(\"cuda:0\" if torch.cuda.is_available() else \"cpu\") \n",
    "    model = Net7(39, 1)\n",
    "    model.load_state_dict(torch.load(PATH)) \n",
    "    criterion = RMSLELoss()\n",
    "#     model.eval()"
   ]
  },
  {
   "cell_type": "code",
   "execution_count": 148,
   "metadata": {},
   "outputs": [],
   "source": [
    "def test(model, test_dataloader): \n",
    "    model.to(device)\n",
    "    model.eval()\n",
    "    test_loss = 0\n",
    "    for x_test,label_test in tqdm(test_dataloader):\n",
    "        x_test = x_test.to(device)\n",
    "        label_test = label_test.to(device)\n",
    "        y_test=model(x_test.float())\n",
    "        loss_test=criterion(y_test,label_test.float().reshape(-1,1))\n",
    "#         loss_test=mean_squared_log_error(y_test.cpu().detach().numpy().reshape(-1, 1),label_test.cpu().detach().numpy().reshape(-1, 1))\n",
    "#         loss_test = msle(y_test, label_test.float().reshape(-1,1))\n",
    "        test_loss += loss_test.item()\n",
    "#         print(test_loss)\n",
    "\n",
    "    overall_loss = test_loss/len(test_dataloader)        \n",
    "    print(\"-----------------------------\")         \n",
    "    print(\"Loss of the model: {:.4f}\".format(overall_loss)) \n",
    "    return overall_loss"
   ]
  },
  {
   "cell_type": "code",
   "execution_count": 146,
   "metadata": {},
   "outputs": [
    {
     "data": {
      "application/vnd.jupyter.widget-view+json": {
       "model_id": "ddee7f266ef24c5b8ec5525c9459247b",
       "version_major": 2,
       "version_minor": 0
      },
      "text/plain": [
       "HBox(children=(FloatProgress(value=0.0, max=2241.0), HTML(value='')))"
      ]
     },
     "metadata": {},
     "output_type": "display_data"
    },
    {
     "name": "stdout",
     "output_type": "stream",
     "text": [
      "\n",
      "-----------------------------\n",
      "Loss of the model: 0.1559\n"
     ]
    },
    {
     "data": {
      "text/plain": [
       "0.15592424347930217"
      ]
     },
     "execution_count": 146,
     "metadata": {},
     "output_type": "execute_result"
    }
   ],
   "source": [
    "test(Net7(input_size, 1), test_dataloader)"
   ]
  }
 ],
 "metadata": {
  "interpreter": {
   "hash": "aad7fa43305c5ed1fb127d263f3083b3588cd5af60f171b45496a79879bf8414"
  },
  "kernelspec": {
   "display_name": "Python 3",
   "language": "python",
   "name": "python3"
  },
  "language_info": {
   "codemirror_mode": {
    "name": "ipython",
    "version": 3
   },
   "file_extension": ".py",
   "mimetype": "text/x-python",
   "name": "python",
   "nbconvert_exporter": "python",
   "pygments_lexer": "ipython3",
   "version": "3.6.10"
  }
 },
 "nbformat": 4,
 "nbformat_minor": 2
}
